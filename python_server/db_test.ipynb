{
 "cells": [
  {
   "cell_type": "code",
   "execution_count": 52,
   "id": "1882b4dc",
   "metadata": {},
   "outputs": [],
   "source": [
    "import pandas\n",
    "#pip install pymysql \n",
    "import pymysql"
   ]
  },
  {
   "cell_type": "code",
   "execution_count": 92,
   "id": "cffdc75f",
   "metadata": {},
   "outputs": [],
   "source": [
    "#데이터 베이스와 연결하는 부분\n",
    "#mysql은 pymysql.connect를 사용하여 데이터베이스와 연결 \n",
    "#user=mysql 데이터베이스 사용자 이름 , \n",
    "#passwd=mysql 데이터 베이스 비밀번호 \n",
    "#host= mysql 데이터베이스 주소 \n",
    "#port=mysql데이터 베이스 포트 \n",
    "#db= 접속하려는 데이터베이스 \n",
    "\n",
    "conn = pymysql.connect(\n",
    "user='room_test',\n",
    "passwd='ehrnc64581',\n",
    "#222.108.71.247 (외부접속)\n",
    "# 192.168.0.42\n",
    "host='192.168.0.42',\n",
    "port=3306,\n",
    "db='testdb',\n",
    ")\n",
    "\n",
    "#TEST\n",
    "sql=\"SELECT * FROM data WHERE 날짜 > now() - INTERVAL 1 HOUR;\"\n",
    "# sql=\"SELECT * FROM data WHERE 센서번호 = 25 AND 날짜 > now() - INTERVAL 5 MINUTE;\"\n",
    "# sql=\"SELECT * FROM data WHERE 날짜 > now() - INTERVAL 1 HOUR;\"\n",
    "\n",
    "#5분데이터 불러오는 부분\n",
    "# sql=\"SELECT * FROM data WHERE 날짜 > now() - INTERVAL 5 MINUTE;\"\n",
    "\n",
    "#10분데이터 불러오는 부분\n",
    "# sql=\"SELECT * FROM myTable WHERE date > now() - INTERVAL 10 MINUTE;\""
   ]
  },
  {
   "cell_type": "code",
   "execution_count": 93,
   "id": "f4c4335b",
   "metadata": {},
   "outputs": [],
   "source": [
    "#Dataframe으로 데이터를 불러오기 위하여 sql사용 \n",
    "sql=\"SELECT * FROM data WHERE 날짜 > now() - INTERVAL 10 MINUTE;\"\n",
    "df=pandas.read_sql_query(sql,conn)\n",
    "conn.close()"
   ]
  },
  {
   "cell_type": "code",
   "execution_count": 94,
   "id": "f6d29a42",
   "metadata": {},
   "outputs": [
    {
     "data": {
      "text/html": [
       "<div>\n",
       "<style scoped>\n",
       "    .dataframe tbody tr th:only-of-type {\n",
       "        vertical-align: middle;\n",
       "    }\n",
       "\n",
       "    .dataframe tbody tr th {\n",
       "        vertical-align: top;\n",
       "    }\n",
       "\n",
       "    .dataframe thead th {\n",
       "        text-align: right;\n",
       "    }\n",
       "</style>\n",
       "<table border=\"1\" class=\"dataframe\">\n",
       "  <thead>\n",
       "    <tr style=\"text-align: right;\">\n",
       "      <th></th>\n",
       "      <th>id</th>\n",
       "      <th>날짜</th>\n",
       "      <th>센서번호</th>\n",
       "      <th>온도</th>\n",
       "      <th>습도</th>\n",
       "      <th>PM</th>\n",
       "      <th>CO2</th>\n",
       "      <th>TVOC</th>\n",
       "    </tr>\n",
       "  </thead>\n",
       "  <tbody>\n",
       "  </tbody>\n",
       "</table>\n",
       "</div>"
      ],
      "text/plain": [
       "Empty DataFrame\n",
       "Columns: [id, 날짜, 센서번호, 온도, 습도, PM, CO2, TVOC]\n",
       "Index: []"
      ]
     },
     "execution_count": 94,
     "metadata": {},
     "output_type": "execute_result"
    }
   ],
   "source": [
    "df"
   ]
  },
  {
   "cell_type": "code",
   "execution_count": 88,
   "id": "6ef81e35",
   "metadata": {},
   "outputs": [
    {
     "ename": "IndexError",
     "evalue": "index -1 is out of bounds for axis 0 with size 0",
     "output_type": "error",
     "traceback": [
      "\u001b[1;31m---------------------------------------------------------------------------\u001b[0m",
      "\u001b[1;31mIndexError\u001b[0m                                Traceback (most recent call last)",
      "\u001b[1;32m~\\AppData\\Local\\Temp/ipykernel_23472/2459008269.py\u001b[0m in \u001b[0;36m<module>\u001b[1;34m\u001b[0m\n\u001b[1;32m----> 1\u001b[1;33m \u001b[0mdf\u001b[0m\u001b[1;33m.\u001b[0m\u001b[0mloc\u001b[0m\u001b[1;33m[\u001b[0m\u001b[0mdf\u001b[0m\u001b[1;33m.\u001b[0m\u001b[0m센서번호\u001b[0m \u001b[1;33m==\u001b[0m \u001b[0mint\u001b[0m\u001b[1;33m(\u001b[0m\u001b[1;34m'25'\u001b[0m\u001b[1;33m)\u001b[0m\u001b[1;33m,\u001b[0m\u001b[1;33m[\u001b[0m\u001b[1;34m'PM'\u001b[0m\u001b[1;33m]\u001b[0m\u001b[1;33m]\u001b[0m\u001b[1;33m.\u001b[0m\u001b[0mvalues\u001b[0m\u001b[1;33m[\u001b[0m\u001b[1;33m-\u001b[0m\u001b[1;36m1\u001b[0m\u001b[1;33m]\u001b[0m\u001b[1;33m[\u001b[0m\u001b[1;36m0\u001b[0m\u001b[1;33m]\u001b[0m\u001b[1;33m\u001b[0m\u001b[1;33m\u001b[0m\u001b[0m\n\u001b[0m",
      "\u001b[1;31mIndexError\u001b[0m: index -1 is out of bounds for axis 0 with size 0"
     ]
    }
   ],
   "source": [
    "df.loc[df.센서번호 == int('25'),['PM']].values[-1][0]"
   ]
  },
  {
   "cell_type": "code",
   "execution_count": 89,
   "id": "29afdc18",
   "metadata": {},
   "outputs": [
    {
     "ename": "IndexError",
     "evalue": "index -1 is out of bounds for axis 0 with size 0",
     "output_type": "error",
     "traceback": [
      "\u001b[1;31m---------------------------------------------------------------------------\u001b[0m",
      "\u001b[1;31mIndexError\u001b[0m                                Traceback (most recent call last)",
      "\u001b[1;32m~\\AppData\\Local\\Temp/ipykernel_23472/3114753079.py\u001b[0m in \u001b[0;36m<module>\u001b[1;34m\u001b[0m\n\u001b[1;32m----> 1\u001b[1;33m \u001b[0mdf\u001b[0m\u001b[1;33m.\u001b[0m\u001b[0mloc\u001b[0m\u001b[1;33m[\u001b[0m\u001b[0mdf\u001b[0m\u001b[1;33m.\u001b[0m\u001b[0m센서번호\u001b[0m \u001b[1;33m==\u001b[0m \u001b[0mint\u001b[0m\u001b[1;33m(\u001b[0m\u001b[1;34m'25'\u001b[0m\u001b[1;33m)\u001b[0m\u001b[1;33m,\u001b[0m\u001b[1;33m[\u001b[0m\u001b[1;34m'CO2'\u001b[0m\u001b[1;33m]\u001b[0m\u001b[1;33m]\u001b[0m\u001b[1;33m.\u001b[0m\u001b[0mvalues\u001b[0m\u001b[1;33m[\u001b[0m\u001b[1;33m-\u001b[0m\u001b[1;36m1\u001b[0m\u001b[1;33m]\u001b[0m\u001b[1;33m[\u001b[0m\u001b[1;36m0\u001b[0m\u001b[1;33m]\u001b[0m\u001b[1;33m\u001b[0m\u001b[1;33m\u001b[0m\u001b[0m\n\u001b[0m",
      "\u001b[1;31mIndexError\u001b[0m: index -1 is out of bounds for axis 0 with size 0"
     ]
    }
   ],
   "source": [
    "df.loc[df.센서번호 == int('25'),['CO2']].values[-1][0]"
   ]
  },
  {
   "cell_type": "code",
   "execution_count": 91,
   "id": "9d8ec5f7",
   "metadata": {},
   "outputs": [
    {
     "data": {
      "text/plain": [
       "True"
      ]
     },
     "execution_count": 91,
     "metadata": {},
     "output_type": "execute_result"
    }
   ],
   "source": [
    "df.empty"
   ]
  },
  {
   "cell_type": "code",
   "execution_count": 8,
   "id": "ea80b4c3",
   "metadata": {},
   "outputs": [],
   "source": [
    "env_val = float(df.loc[:,['CO2']].values[-1][0])\n",
    "env_val = float(df.loc[:,['PM']].values[-1][0])"
   ]
  },
  {
   "cell_type": "code",
   "execution_count": 12,
   "id": "043d1ca5",
   "metadata": {},
   "outputs": [
    {
     "data": {
      "text/plain": [
       "634.188"
      ]
     },
     "execution_count": 12,
     "metadata": {},
     "output_type": "execute_result"
    }
   ],
   "source": [
    "float(df.loc[:,['CO2']].values[-1][0])"
   ]
  }
 ],
 "metadata": {
  "interpreter": {
   "hash": "9c56d6588016773a9a261ca696be21be523e85b6a015f86bf5fcaeb370621b0d"
  },
  "kernelspec": {
   "display_name": "Python 3.7.11 ('pro1')",
   "language": "python",
   "name": "python3"
  },
  "language_info": {
   "codemirror_mode": {
    "name": "ipython",
    "version": 3
   },
   "file_extension": ".py",
   "mimetype": "text/x-python",
   "name": "python",
   "nbconvert_exporter": "python",
   "pygments_lexer": "ipython3",
   "version": "3.7.13"
  }
 },
 "nbformat": 4,
 "nbformat_minor": 5
}
