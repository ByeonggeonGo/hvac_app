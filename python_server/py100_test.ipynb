{
 "cells": [
  {
   "cell_type": "code",
   "execution_count": 1,
   "metadata": {},
   "outputs": [],
   "source": [
    "import requests\n",
    "from requests import Session\n",
    "\n",
    "from base64 import b64encode, b64decode\n",
    "import hashlib\n",
    "import sys\n",
    "import crypto\n",
    "sys.modules['Crypto'] = crypto\n",
    "sys.path.append(r'/c/Users/Go/Desktop/TapoP100-main/PyP100/')\n",
    "\n",
    "\n",
    "from Crypto.PublicKey import RSA\n",
    "import time\n",
    "import json\n",
    "from Crypto.Cipher import AES, PKCS1_OAEP, PKCS1_v1_5\n",
    "import tp_link_cipher\n",
    "import ast\n",
    "import pkgutil\n",
    "import uuid\n",
    "import json\n",
    "\n",
    "ERROR_CODES = {\n",
    "\t\"0\": \"Success\",\n",
    "\t\"-1010\": \"Invalid Public Key Length\",\n",
    "\t\"-1012\": \"Invalid terminalUUID\",\n",
    "\t\"-1501\": \"Invalid Request or Credentials\",\n",
    "\t\"1002\": \"Incorrect Request\",\n",
    "\t\"-1003\": \"JSON formatting error \"\n",
    "}"
   ]
  },
  {
   "cell_type": "code",
   "execution_count": 2,
   "metadata": {},
   "outputs": [],
   "source": [
    "import requests\n",
    "from requests import Session\n",
    "\n",
    "from base64 import b64encode, b64decode\n",
    "import hashlib\n",
    "import sys\n",
    "import crypto\n",
    "sys.modules['Crypto'] = crypto\n",
    "sys.path.append(r'/c/Users/Go/Desktop/TapoP100-main/PyP100/')\n",
    "\n",
    "\n",
    "from Crypto.PublicKey import RSA\n",
    "import time\n",
    "import json\n",
    "from Crypto.Cipher import AES, PKCS1_OAEP, PKCS1_v1_5\n",
    "import tp_link_cipher\n",
    "import ast\n",
    "import pkgutil\n",
    "import uuid\n",
    "import json\n",
    "\n",
    "\n",
    "#Old Functions to get device list from tplinkcloud\n",
    "def getToken(email, password):\n",
    "\tURL = \"https://eu-wap.tplinkcloud.com\"\n",
    "\tPayload = {\n",
    "\t\t\"method\": \"login\",\n",
    "\t\t\"params\": {\n",
    "\t\t\t\"appType\": \"Tapo_Ios\",\n",
    "\t\t\t\"cloudUserName\": email,\n",
    "\t\t\t\"cloudPassword\": password,\n",
    "\t\t\t\"terminalUUID\": \"0A950402-7224-46EB-A450-7362CDB902A2\"\n",
    "\t\t}\n",
    "\t}\n",
    "\n",
    "\treturn requests.post(URL, json=Payload).json()['result']['token']\n",
    "\n",
    "\n",
    "def getDeviceList(email, password):\n",
    "\tURL = \"https://eu-wap.tplinkcloud.com?token=\" + getToken(email, password)\n",
    "\tPayload = {\n",
    "\t\t\"method\": \"getDeviceList\",\n",
    "\t}\n",
    "\n",
    "\treturn requests.post(URL, json=Payload).json()\n",
    "\n",
    "ERROR_CODES = {\n",
    "\t\"0\": \"Success\",\n",
    "\t\"-1010\": \"Invalid Public Key Length\",\n",
    "\t\"-1012\": \"Invalid terminalUUID\",\n",
    "\t\"-1501\": \"Invalid Request or Credentials\",\n",
    "\t\"1002\": \"Incorrect Request\",\n",
    "\t\"-1003\": \"JSON formatting error \"\n",
    "}\n",
    "\n",
    "class P100():\n",
    "\tdef __init__ (self, ipAddress, email, password):\n",
    "\t\tself.ipAddress = ipAddress\n",
    "\t\tself.terminalUUID = str(uuid.uuid4())\n",
    "\n",
    "\t\tself.email = email\n",
    "\t\tself.password = password\n",
    "\t\tself.session = Session()\n",
    "\n",
    "\t\tself.errorCodes = ERROR_CODES\n",
    "\n",
    "\t\tself.encryptCredentials(email, password)\n",
    "\t\tself.createKeyPair()\n",
    "\n",
    "\tdef encryptCredentials(self, email, password):\n",
    "\t\t#Password Encoding\n",
    "\t\tself.encodedPassword = tp_link_cipher.TpLinkCipher.mime_encoder(password.encode(\"utf-8\"))\n",
    "\n",
    "\t\t#Email Encoding\n",
    "\t\tself.encodedEmail = self.sha_digest_username(email)\n",
    "\t\tself.encodedEmail = tp_link_cipher.TpLinkCipher.mime_encoder(self.encodedEmail.encode(\"utf-8\"))\n",
    "\n",
    "\tdef createKeyPair(self):\n",
    "\t\tself.keys = RSA.generate(1024)\n",
    "\n",
    "\t\tself.privateKey = self.keys.exportKey(\"PEM\")\n",
    "\t\tself.publicKey  = self.keys.publickey().exportKey(\"PEM\")\n",
    "\n",
    "\tdef decode_handshake_key(self, key):\n",
    "\t\tdecode: bytes = b64decode(key.encode(\"UTF-8\"))\n",
    "\t\tdecode2: bytes = self.privateKey\n",
    "\n",
    "\t\tcipher = PKCS1_v1_5.new(RSA.importKey(decode2))\n",
    "\t\tdo_final = cipher.decrypt(decode, None)\n",
    "\t\tif do_final is None:\n",
    "\t\t\traise ValueError(\"Decryption failed!\")\n",
    "\n",
    "\t\tb_arr:bytearray = bytearray()\n",
    "\t\tb_arr2:bytearray = bytearray()\n",
    "\n",
    "\t\tfor i in range(0, 16):\n",
    "\t\t\tb_arr.insert(i, do_final[i])\n",
    "\t\tfor i in range(0, 16):\n",
    "\t\t\tb_arr2.insert(i, do_final[i + 16])\n",
    "\n",
    "\t\treturn tp_link_cipher.TpLinkCipher(b_arr, b_arr2)\n",
    "\n",
    "\tdef sha_digest_username(self, data):\n",
    "\t\tb_arr = data.encode(\"UTF-8\")\n",
    "\t\tdigest = hashlib.sha1(b_arr).digest()\n",
    "\n",
    "\t\tsb = \"\"\n",
    "\t\tfor i in range(0, len(digest)):\n",
    "\t\t\tb = digest[i]\n",
    "\t\t\thex_string = hex(b & 255).replace(\"0x\", \"\")\n",
    "\t\t\tif len(hex_string) == 1:\n",
    "\t\t\t\tsb += \"0\"\n",
    "\t\t\t\tsb += hex_string\n",
    "\t\t\telse:\n",
    "\t\t\t\tsb += hex_string\n",
    "\n",
    "\t\treturn sb\n",
    "\n",
    "\tdef handshake(self):\n",
    "\t\tURL = f\"http://{self.ipAddress}/app\"\n",
    "\t\tPayload = {\n",
    "\t\t\t\"method\":\"handshake\",\n",
    "\t\t\t\"params\":{\n",
    "\t\t\t\t\"key\": self.publicKey.decode(\"utf-8\"),\n",
    "\t\t\t\t\"requestTimeMils\": int(round(time.time() * 1000))\n",
    "\t\t\t}\n",
    "\t\t}\n",
    "\n",
    "\t\tr = self.session.post(URL, json=Payload, timeout=2)\n",
    "\n",
    "\t\tencryptedKey = r.json()[\"result\"][\"key\"]\n",
    "\t\tself.tpLinkCipher = self.decode_handshake_key(encryptedKey)\n",
    "\n",
    "\t\ttry:\n",
    "\t\t\tself.cookie = r.headers[\"Set-Cookie\"][:-13]\n",
    "\n",
    "\t\texcept:\n",
    "\t\t\terrorCode = r.json()[\"error_code\"]\n",
    "\t\t\terrorMessage = self.errorCodes[str(errorCode)]\n",
    "\t\t\traise Exception(f\"Error Code: {errorCode}, {errorMessage}\")\n",
    "\n",
    "\tdef login(self):\n",
    "\t\tURL = f\"http://{self.ipAddress}/app\"\n",
    "\t\tPayload = {\n",
    "\t\t\t\"method\":\"login_device\",\n",
    "\t\t\t\"params\":{\n",
    "\t\t\t\t\"username\": self.encodedEmail,\n",
    "\t\t\t\t\"password\": self.encodedPassword\n",
    "\t\t\t},\n",
    "\t\t\t\"requestTimeMils\": int(round(time.time() * 1000)),\n",
    "\t\t}\n",
    "\t\theaders = {\n",
    "\t\t\t\"Cookie\": self.cookie\n",
    "\t\t}\n",
    "\n",
    "\t\tEncryptedPayload = self.tpLinkCipher.encrypt(json.dumps(Payload))\n",
    "\n",
    "\t\tSecurePassthroughPayload = {\n",
    "\t\t\t\"method\":\"securePassthrough\",\n",
    "\t\t\t\"params\":{\n",
    "\t\t\t\t\"request\": EncryptedPayload\n",
    "\t\t\t}\n",
    "\t\t}\n",
    "\n",
    "\t\tr = self.session.post(URL, json=SecurePassthroughPayload, headers=headers, timeout=2)\n",
    "\n",
    "\t\tdecryptedResponse = self.tpLinkCipher.decrypt(r.json()[\"result\"][\"response\"])\n",
    "\n",
    "\t\ttry:\n",
    "\t\t\tself.token = ast.literal_eval(decryptedResponse)[\"result\"][\"token\"]\n",
    "\t\texcept:\n",
    "\t\t\terrorCode = ast.literal_eval(decryptedResponse)[\"error_code\"]\n",
    "\t\t\terrorMessage = self.errorCodes[str(errorCode)]\n",
    "\t\t\traise Exception(f\"Error Code: {errorCode}, {errorMessage}\")\n",
    "\n",
    "\tdef turnOn(self):\n",
    "\t\tURL = f\"http://{self.ipAddress}/app?token={self.token}\"\n",
    "\t\tPayload = {\n",
    "\t\t\t\"method\": \"set_device_info\",\n",
    "\t\t\t\"params\":{\n",
    "\t\t\t\t\"device_on\": True\n",
    "\t\t\t},\n",
    "\t\t\t\"requestTimeMils\": int(round(time.time() * 1000)),\n",
    "\t\t\t\"terminalUUID\": self.terminalUUID\n",
    "\t\t}\n",
    "\n",
    "\t\theaders = {\n",
    "\t\t\t\"Cookie\": self.cookie\n",
    "\t\t}\n",
    "\n",
    "\t\tEncryptedPayload = self.tpLinkCipher.encrypt(json.dumps(Payload))\n",
    "\n",
    "\t\tSecurePassthroughPayload = {\n",
    "\t\t\t\"method\": \"securePassthrough\",\n",
    "\t\t\t\"params\": {\n",
    "\t\t\t\t\"request\": EncryptedPayload\n",
    "\t\t\t}\n",
    "\t\t}\n",
    "\n",
    "\t\tr = self.session.post(URL, json=SecurePassthroughPayload, headers=headers, timeout=2)\n",
    "\n",
    "\t\tdecryptedResponse = self.tpLinkCipher.decrypt(r.json()[\"result\"][\"response\"])\n",
    "\n",
    "\t\tif ast.literal_eval(decryptedResponse)[\"error_code\"] != 0:\n",
    "\t\t\terrorCode = ast.literal_eval(decryptedResponse)[\"error_code\"]\n",
    "\t\t\terrorMessage = self.errorCodes[str(errorCode)]\n",
    "\t\t\traise Exception(f\"Error Code: {errorCode}, {errorMessage}\")\n",
    "\n",
    "\tdef turnOff(self):\n",
    "\t\tURL = f\"http://{self.ipAddress}/app?token={self.token}\"\n",
    "\t\tPayload = {\n",
    "\t\t\t\"method\": \"set_device_info\",\n",
    "\t\t\t\"params\":{\n",
    "\t\t\t\t\"device_on\": False\n",
    "\t\t\t},\n",
    "\t\t\t\"requestTimeMils\": int(round(time.time() * 1000)),\n",
    "\t\t\t\"terminalUUID\": self.terminalUUID\n",
    "\t\t}\n",
    "\n",
    "\t\theaders = {\n",
    "\t\t\t\"Cookie\": self.cookie\n",
    "\t\t}\n",
    "\n",
    "\t\tEncryptedPayload = self.tpLinkCipher.encrypt(json.dumps(Payload))\n",
    "\n",
    "\t\tSecurePassthroughPayload = {\n",
    "\t\t\t\"method\": \"securePassthrough\",\n",
    "\t\t\t\"params\":{\n",
    "\t\t\t\t\"request\": EncryptedPayload\n",
    "\t\t\t}\n",
    "\t\t}\n",
    "\n",
    "\t\tr = self.session.post(URL, json=SecurePassthroughPayload, headers=headers, timeout=2)\n",
    "\n",
    "\t\tdecryptedResponse = self.tpLinkCipher.decrypt(r.json()[\"result\"][\"response\"])\n",
    "\n",
    "\t\tif ast.literal_eval(decryptedResponse)[\"error_code\"] != 0:\n",
    "\t\t\terrorCode = ast.literal_eval(decryptedResponse)[\"error_code\"]\n",
    "\t\t\terrorMessage = self.errorCodes[str(errorCode)]\n",
    "\t\t\traise Exception(f\"Error Code: {errorCode}, {errorMessage}\")\n",
    "\n",
    "\tdef getDeviceInfo(self):\n",
    "\t\tURL = f\"http://{self.ipAddress}/app?token={self.token}\"\n",
    "\t\tPayload = {\n",
    "\t\t\t\"method\": \"get_device_info\",\n",
    "\t\t\t\"requestTimeMils\": int(round(time.time() * 1000)),\n",
    "\t\t}\n",
    "\n",
    "\t\theaders = {\n",
    "\t\t\t\"Cookie\": self.cookie\n",
    "\t\t}\n",
    "\n",
    "\t\tEncryptedPayload = self.tpLinkCipher.encrypt(json.dumps(Payload))\n",
    "\n",
    "\t\tSecurePassthroughPayload = {\n",
    "\t\t\t\"method\":\"securePassthrough\",\n",
    "\t\t\t\"params\":{\n",
    "\t\t\t\t\"request\": EncryptedPayload\n",
    "\t\t\t}\n",
    "\t\t}\n",
    "\n",
    "\t\tr = self.session.post(URL, json=SecurePassthroughPayload, headers=headers)\n",
    "\t\tdecryptedResponse = self.tpLinkCipher.decrypt(r.json()[\"result\"][\"response\"])\n",
    "\n",
    "\t\treturn json.loads(decryptedResponse)\n",
    "\n",
    "\tdef getDeviceName(self):\n",
    "\t\tself.handshake()\n",
    "\t\tself.login()\n",
    "\t\tdata = self.getDeviceInfo()\n",
    "\n",
    "\t\tif data[\"error_code\"] != 0:\n",
    "\t\t\terrorCode = ast.literal_eval(decryptedResponse)[\"error_code\"]\n",
    "\t\t\terrorMessage = self.errorCodes[str(errorCode)]\n",
    "\t\t\traise Exception(f\"Error Code: {errorCode}, {errorMessage}\")\n",
    "\t\telse:\n",
    "\t\t\tencodedName = data[\"result\"][\"nickname\"]\n",
    "\t\t\tname = b64decode(encodedName)\n",
    "\t\t\treturn name.decode(\"utf-8\")\n",
    "\n",
    "\tdef turnOnWithDelay(self, delay):\n",
    "\t\tURL = f\"http://{self.ipAddress}/app?token={self.token}\"\n",
    "\t\tPayload = {\n",
    "\t\t\t\"method\": \"add_countdown_rule\",\n",
    "\t\t\t\"params\": {\n",
    "\t\t\t\t\"delay\": int(delay),\n",
    "\t\t\t\t\"desired_states\": {\n",
    "\t\t\t\t\t\"on\": True\n",
    "\t\t\t\t},\n",
    "\t\t\t\t\"enable\": True,\n",
    "\t\t\t\t\"remain\": int(delay)\n",
    "\t\t\t},\n",
    "\t\t\t\"terminalUUID\": self.terminalUUID\n",
    "\t\t}\n",
    "\n",
    "\t\theaders = {\n",
    "\t\t\t\"Cookie\": self.cookie\n",
    "\t\t}\n",
    "\n",
    "\t\tEncryptedPayload = self.tpLinkCipher.encrypt(json.dumps(Payload))\n",
    "\n",
    "\t\tSecurePassthroughPayload = {\n",
    "\t\t\t\"method\": \"securePassthrough\",\n",
    "\t\t\t\"params\": {\n",
    "\t\t\t\t\"request\": EncryptedPayload\n",
    "\t\t\t}\n",
    "\t\t}\n",
    "\n",
    "\t\tr = self.session.post(URL, json=SecurePassthroughPayload, headers=headers)\n",
    "\n",
    "\t\tdecryptedResponse = self.tpLinkCipher.decrypt(r.json()[\"result\"][\"response\"])\n",
    "\n",
    "\t\tif ast.literal_eval(decryptedResponse)[\"error_code\"] != 0:\n",
    "\t\t\terrorCode = ast.literal_eval(decryptedResponse)[\"error_code\"]\n",
    "\t\t\terrorMessage = self.errorCodes[str(errorCode)]\n",
    "\t\t\traise Exception(f\"Error Code: {errorCode}, {errorMessage}\")\n",
    "\n",
    "\tdef turnOffWithDelay(self, delay):\n",
    "\t\tURL = f\"http://{self.ipAddress}/app?token={self.token}\"\n",
    "\t\tPayload = {\n",
    "\t\t\t\"method\": \"add_countdown_rule\",\n",
    "\t\t\t\"params\": {\n",
    "\t\t\t\t\"delay\": int(delay),\n",
    "\t\t\t\t\"desired_states\": {\n",
    "\t\t\t\t\t\"on\": False\n",
    "\t\t\t\t},\n",
    "\t\t\t\t\"enable\": True,\n",
    "\t\t\t\t\"remain\": int(delay)\n",
    "\t\t\t},\n",
    "\t\t\t\"terminalUUID\": self.terminalUUID\n",
    "\t\t}\n",
    "\n",
    "\t\theaders = {\n",
    "\t\t\t\"Cookie\": self.cookie\n",
    "\t\t}\n",
    "\n",
    "\t\tEncryptedPayload = self.tpLinkCipher.encrypt(json.dumps(Payload))\n",
    "\n",
    "\t\tSecurePassthroughPayload = {\n",
    "\t\t\t\"method\": \"securePassthrough\",\n",
    "\t\t\t\"params\": {\n",
    "\t\t\t\t\"request\": EncryptedPayload\n",
    "\t\t\t}\n",
    "\t\t}\n",
    "\n",
    "\t\tr = self.session.post(URL, json=SecurePassthroughPayload, headers=headers)\n",
    "\n",
    "\t\tdecryptedResponse = self.tpLinkCipher.decrypt(r.json()[\"result\"][\"response\"])\n",
    "\n",
    "\t\tif ast.literal_eval(decryptedResponse)[\"error_code\"] != 0:\n",
    "\t\t\terrorCode = ast.literal_eval(decryptedResponse)[\"error_code\"]\n",
    "\t\t\terrorMessage = self.errorCodes[str(errorCode)]\n",
    "\t\t\traise Exception(f\"Error Code: {errorCode}, {errorMessage}\")\n"
   ]
  },
  {
   "cell_type": "code",
   "execution_count": 5,
   "metadata": {},
   "outputs": [],
   "source": [
    "p_controller = P100('221.151.78.120:80','rhqudrjs2@naver.com','qudrjs12#')\n",
    "p_controller.handshake()\n",
    "p_controller.login()"
   ]
  },
  {
   "cell_type": "code",
   "execution_count": 29,
   "metadata": {},
   "outputs": [
    {
     "data": {
      "text/plain": [
       "'bd3eedca-BTx0fIKRX2CakiFJ8rnRbDX'"
      ]
     },
     "execution_count": 29,
     "metadata": {},
     "output_type": "execute_result"
    }
   ],
   "source": [
    "getToken('rhqudrjs2@naver.com','qudrjs12#')"
   ]
  },
  {
   "cell_type": "code",
   "execution_count": 28,
   "metadata": {},
   "outputs": [
    {
     "data": {
      "text/plain": [
       "{'error_code': 0,\n",
       " 'result': {'deviceList': [{'deviceType': 'SMART.TAPOPLUG',\n",
       "    'role': 0,\n",
       "    'fwVer': '1.4.10 Build 20211104 Rel. 35882',\n",
       "    'appServerUrl': 'https://aps1-wap.tplinkcloud.com',\n",
       "    'deviceRegion': 'ap-southeast-1',\n",
       "    'deviceId': '80222F3E37C0574D5D4412E6AAF58DAD1F3FF970',\n",
       "    'deviceName': 'P100',\n",
       "    'deviceHwVer': '1.20.0',\n",
       "    'alias': 'NjAzLXRlc3Q=',\n",
       "    'deviceMac': '5CA6E6C13C79',\n",
       "    'oemId': 'D7C5ADFD37188938BA82FD0FE208D1E7',\n",
       "    'deviceModel': 'P100',\n",
       "    'hwId': '9994A0A7D5B29645B8150C392284029D',\n",
       "    'fwId': '1D18AD293A25ABDE41405B20C6F98816',\n",
       "    'isSameRegion': False,\n",
       "    'status': 0},\n",
       "   {'deviceType': 'SMART.TAPOPLUG',\n",
       "    'role': 0,\n",
       "    'fwVer': '1.4.10 Build 20211104 Rel. 35882',\n",
       "    'appServerUrl': 'https://aps1-wap.tplinkcloud.com',\n",
       "    'deviceRegion': 'ap-southeast-1',\n",
       "    'deviceId': '8022B77263924A0418F2500A15D2A6D61F3F5DBF',\n",
       "    'deviceName': 'P100',\n",
       "    'deviceHwVer': '1.20.0',\n",
       "    'alias': 'NjAzX+qzteq4sOyInO2ZmOq4sF8x',\n",
       "    'deviceMac': '5CA6E6C160A0',\n",
       "    'oemId': 'D7C5ADFD37188938BA82FD0FE208D1E7',\n",
       "    'deviceModel': 'P100',\n",
       "    'hwId': '9994A0A7D5B29645B8150C392284029D',\n",
       "    'fwId': '1D18AD293A25ABDE41405B20C6F98816',\n",
       "    'isSameRegion': False,\n",
       "    'status': 0}]}}"
      ]
     },
     "execution_count": 28,
     "metadata": {},
     "output_type": "execute_result"
    }
   ],
   "source": [
    "getDeviceList('rhqudrjs2@naver.com','qudrjs12#')"
   ]
  },
  {
   "cell_type": "code",
   "execution_count": 52,
   "metadata": {},
   "outputs": [],
   "source": [
    "testP100 = P100('221.151.78.120:82','rhqudrjs2@naver.com','qudrjs12#')\n",
    "testP100.handshake()\n",
    "testP100.login()"
   ]
  },
  {
   "cell_type": "code",
   "execution_count": 55,
   "metadata": {},
   "outputs": [
    {
     "data": {
      "text/plain": [
       "{'error_code': 0,\n",
       " 'result': {'device_id': '80222EAB5A5A857DC2811934D688F8E71F30DF6F',\n",
       "  'fw_ver': '1.4.10 Build 20211104 Rel. 35882',\n",
       "  'hw_ver': '1.20.0',\n",
       "  'type': 'SMART.TAPOPLUG',\n",
       "  'model': 'P100',\n",
       "  'mac': '5C-A6-E6-3A-B8-03',\n",
       "  'hw_id': '9994A0A7D5B29645B8150C392284029D',\n",
       "  'fw_id': '1D18AD293A25ABDE41405B20C6F98816',\n",
       "  'oem_id': 'D7C5ADFD37188938BA82FD0FE208D1E7',\n",
       "  'specs': 'EU',\n",
       "  'device_on': True,\n",
       "  'on_time': 0,\n",
       "  'overheated': False,\n",
       "  'nickname': 'NjAzX+qzteq4sOyyreygleq4sF8y',\n",
       "  'location': 'office',\n",
       "  'avatar': 'bread_maker',\n",
       "  'longitude': -1879048193,\n",
       "  'latitude': -1879048193,\n",
       "  'has_set_location_info': False,\n",
       "  'ip': '192.168.0.15',\n",
       "  'ssid': 'aXB0aW1lXzYwMw==',\n",
       "  'signal_level': 1,\n",
       "  'rssi': -77,\n",
       "  'region': 'Asia/Seoul',\n",
       "  'time_diff': 540,\n",
       "  'lang': '',\n",
       "  'default_states': {'type': 'last_states', 'state': {}}}}"
      ]
     },
     "execution_count": 55,
     "metadata": {},
     "output_type": "execute_result"
    }
   ],
   "source": [
    "testP100.turnOn()\n",
    "testP100.getDeviceInfo()"
   ]
  },
  {
   "cell_type": "code",
   "execution_count": 14,
   "metadata": {},
   "outputs": [
    {
     "data": {
      "text/plain": [
       "{'error_code': 0,\n",
       " 'result': {'device_id': '80222EAB5A5A857DC2811934D688F8E71F30DF6F',\n",
       "  'fw_ver': '1.4.10 Build 20211104 Rel. 35882',\n",
       "  'hw_ver': '1.20.0',\n",
       "  'type': 'SMART.TAPOPLUG',\n",
       "  'model': 'P100',\n",
       "  'mac': '5C-A6-E6-3A-B8-03',\n",
       "  'hw_id': '9994A0A7D5B29645B8150C392284029D',\n",
       "  'fw_id': '1D18AD293A25ABDE41405B20C6F98816',\n",
       "  'oem_id': 'D7C5ADFD37188938BA82FD0FE208D1E7',\n",
       "  'specs': 'EU',\n",
       "  'device_on': False,\n",
       "  'on_time': 0,\n",
       "  'overheated': False,\n",
       "  'nickname': '7Iqk66eI7Yq4IO2UjOufrOq3uCB0ZXN0',\n",
       "  'location': 'office',\n",
       "  'avatar': 'plug',\n",
       "  'longitude': -1879048193,\n",
       "  'latitude': -1879048193,\n",
       "  'has_set_location_info': False,\n",
       "  'ip': '192.168.0.115',\n",
       "  'ssid': 'RUhSTkNfRFNfMkc=',\n",
       "  'signal_level': 3,\n",
       "  'rssi': -49,\n",
       "  'region': 'Asia/Seoul',\n",
       "  'time_diff': 540,\n",
       "  'lang': 'ko_KR',\n",
       "  'default_states': {'type': 'last_states', 'state': {}}}}"
      ]
     },
     "execution_count": 14,
     "metadata": {},
     "output_type": "execute_result"
    }
   ],
   "source": [
    "testP100.turnOff()\n",
    "testP100.getDeviceInfo()"
   ]
  },
  {
   "cell_type": "code",
   "execution_count": 16,
   "metadata": {},
   "outputs": [
    {
     "data": {
      "text/plain": [
       "{'error_code': 0,\n",
       " 'result': {'device_id': '80222EAB5A5A857DC2811934D688F8E71F30DF6F',\n",
       "  'fw_ver': '1.4.10 Build 20211104 Rel. 35882',\n",
       "  'hw_ver': '1.20.0',\n",
       "  'type': 'SMART.TAPOPLUG',\n",
       "  'model': 'P100',\n",
       "  'mac': '5C-A6-E6-3A-B8-03',\n",
       "  'hw_id': '9994A0A7D5B29645B8150C392284029D',\n",
       "  'fw_id': '1D18AD293A25ABDE41405B20C6F98816',\n",
       "  'oem_id': 'D7C5ADFD37188938BA82FD0FE208D1E7',\n",
       "  'specs': 'EU',\n",
       "  'device_on': True,\n",
       "  'on_time': 5,\n",
       "  'overheated': False,\n",
       "  'nickname': '7Iqk66eI7Yq4IO2UjOufrOq3uCB0ZXN0',\n",
       "  'location': 'office',\n",
       "  'avatar': 'plug',\n",
       "  'longitude': -1879048193,\n",
       "  'latitude': -1879048193,\n",
       "  'has_set_location_info': False,\n",
       "  'ip': '192.168.0.115',\n",
       "  'ssid': 'RUhSTkNfRFNfMkc=',\n",
       "  'signal_level': 3,\n",
       "  'rssi': -48,\n",
       "  'region': 'Asia/Seoul',\n",
       "  'time_diff': 540,\n",
       "  'lang': 'ko_KR',\n",
       "  'default_states': {'type': 'last_states', 'state': {}}}}"
      ]
     },
     "execution_count": 16,
     "metadata": {},
     "output_type": "execute_result"
    }
   ],
   "source": [
    "testP100.turnOn()\n",
    "testP100.getDeviceInfo()"
   ]
  },
  {
   "cell_type": "code",
   "execution_count": 18,
   "metadata": {},
   "outputs": [
    {
     "data": {
      "text/plain": [
       "42"
      ]
     },
     "execution_count": 18,
     "metadata": {},
     "output_type": "execute_result"
    }
   ],
   "source": [
    "testP100.getDeviceInfo()['result']['on_time']"
   ]
  },
  {
   "cell_type": "code",
   "execution_count": 20,
   "metadata": {},
   "outputs": [
    {
     "name": "stdout",
     "output_type": "stream",
     "text": [
      "1\n"
     ]
    }
   ],
   "source": [
    "print('1')"
   ]
  },
  {
   "cell_type": "code",
   "execution_count": 21,
   "metadata": {},
   "outputs": [],
   "source": [
    "import pandas as pd"
   ]
  },
  {
   "cell_type": "code",
   "execution_count": 24,
   "metadata": {},
   "outputs": [],
   "source": [
    "data = {\n",
    "    'id':['ehrnc'],\n",
    "    'pw':['64581'],\n",
    "}\n",
    "id_data = pd.DataFrame(data)"
   ]
  },
  {
   "cell_type": "code",
   "execution_count": 25,
   "metadata": {},
   "outputs": [
    {
     "data": {
      "text/html": [
       "<div>\n",
       "<style scoped>\n",
       "    .dataframe tbody tr th:only-of-type {\n",
       "        vertical-align: middle;\n",
       "    }\n",
       "\n",
       "    .dataframe tbody tr th {\n",
       "        vertical-align: top;\n",
       "    }\n",
       "\n",
       "    .dataframe thead th {\n",
       "        text-align: right;\n",
       "    }\n",
       "</style>\n",
       "<table border=\"1\" class=\"dataframe\">\n",
       "  <thead>\n",
       "    <tr style=\"text-align: right;\">\n",
       "      <th></th>\n",
       "      <th>id</th>\n",
       "      <th>pw</th>\n",
       "    </tr>\n",
       "  </thead>\n",
       "  <tbody>\n",
       "    <tr>\n",
       "      <th>0</th>\n",
       "      <td>ehrnc</td>\n",
       "      <td>64581</td>\n",
       "    </tr>\n",
       "  </tbody>\n",
       "</table>\n",
       "</div>"
      ],
      "text/plain": [
       "      id     pw\n",
       "0  ehrnc  64581"
      ]
     },
     "execution_count": 25,
     "metadata": {},
     "output_type": "execute_result"
    }
   ],
   "source": [
    "id_data.to_csv()\n"
   ]
  },
  {
   "cell_type": "code",
   "execution_count": 29,
   "metadata": {},
   "outputs": [],
   "source": [
    "import os\n",
    "from glob import glob\n",
    "\n",
    "path = os.getcwd()\n",
    "os.path.join(path,'TapoP100',\"DB\")\n",
    "id_data.to_csv(os.path.join(path,'TapoP100',\"DB\",\"user_data.csv\"))"
   ]
  },
  {
   "cell_type": "code",
   "execution_count": 79,
   "metadata": {},
   "outputs": [],
   "source": [
    "import os\n",
    "from glob import glob\n",
    "\n",
    "path = os.getcwd()\n",
    "\n",
    "# data = {\n",
    "#         'ip':[],\n",
    "#         'user_id':[],\n",
    "#         'plug_name':[],\n",
    "#         'on_state':[],\n",
    "#     }\n",
    "\n",
    "# plug_data = pd.DataFrame(data)\n",
    "# plug_data.to_csv(os.path.join(path,'TapoP100',\"DB\",\"controller_data\",\"ehrnc.csv\"),index = False)\n",
    "tt = pd.read_csv(os.path.join(path,'TapoP100',\"DB\",\"controller_data\",\"ehrnc.csv\"))\n",
    "sample_data = {\n",
    "        'ip':'192.168.0.115',\n",
    "        'user_id':'ehrnc',\n",
    "        'plug_name':'test_2',\n",
    "        'on_state':'false',\n",
    "    }\n",
    "tt = tt.append(sample_data,ignore_index=True)\n",
    "tt.to_csv(os.path.join(path,'TapoP100',\"DB\",\"controller_data\",\"ehrnc.csv\"),index = False)"
   ]
  },
  {
   "cell_type": "code",
   "execution_count": 84,
   "metadata": {},
   "outputs": [
    {
     "data": {
      "text/html": [
       "<div>\n",
       "<style scoped>\n",
       "    .dataframe tbody tr th:only-of-type {\n",
       "        vertical-align: middle;\n",
       "    }\n",
       "\n",
       "    .dataframe tbody tr th {\n",
       "        vertical-align: top;\n",
       "    }\n",
       "\n",
       "    .dataframe thead th {\n",
       "        text-align: right;\n",
       "    }\n",
       "</style>\n",
       "<table border=\"1\" class=\"dataframe\">\n",
       "  <thead>\n",
       "    <tr style=\"text-align: right;\">\n",
       "      <th></th>\n",
       "      <th>ip</th>\n",
       "      <th>user_id</th>\n",
       "      <th>plug_name</th>\n",
       "      <th>on_state</th>\n",
       "    </tr>\n",
       "  </thead>\n",
       "  <tbody>\n",
       "    <tr>\n",
       "      <th>0</th>\n",
       "      <td>192.168.0.118</td>\n",
       "      <td>ehrnc</td>\n",
       "      <td>test_1</td>\n",
       "      <td>False</td>\n",
       "    </tr>\n",
       "  </tbody>\n",
       "</table>\n",
       "</div>"
      ],
      "text/plain": [
       "              ip user_id plug_name  on_state\n",
       "0  192.168.0.118   ehrnc    test_1     False"
      ]
     },
     "execution_count": 84,
     "metadata": {},
     "output_type": "execute_result"
    }
   ],
   "source": [
    "pd.read_csv(os.path.join(path,'TapoP100',\"DB\",\"controller_data\",\"ehrnc.csv\"))"
   ]
  },
  {
   "cell_type": "code",
   "execution_count": 75,
   "metadata": {},
   "outputs": [
    {
     "ename": "RuntimeError",
     "evalue": "Working outside of application context.\n\nThis typically means that you attempted to use functionality that needed\nto interface with the current application object in some way. To solve\nthis, set up an application context with app.app_context().  See the\ndocumentation for more information.",
     "output_type": "error",
     "traceback": [
      "\u001b[1;31m---------------------------------------------------------------------------\u001b[0m",
      "\u001b[1;31mRuntimeError\u001b[0m                              Traceback (most recent call last)",
      "\u001b[1;32m~\\AppData\\Local\\Temp/ipykernel_21116/3440329302.py\u001b[0m in \u001b[0;36m<module>\u001b[1;34m\u001b[0m\n\u001b[0;32m      1\u001b[0m \u001b[1;32mfrom\u001b[0m \u001b[0mflask\u001b[0m \u001b[1;32mimport\u001b[0m \u001b[0mBlueprint\u001b[0m\u001b[1;33m,\u001b[0m \u001b[0mstream_with_context\u001b[0m\u001b[1;33m,\u001b[0m \u001b[0mrequest\u001b[0m\u001b[1;33m,\u001b[0m \u001b[0mResponse\u001b[0m\u001b[1;33m,\u001b[0m \u001b[0mjsonify\u001b[0m\u001b[1;33m\u001b[0m\u001b[1;33m\u001b[0m\u001b[0m\n\u001b[1;32m----> 2\u001b[1;33m \u001b[0mjsonify\u001b[0m\u001b[1;33m(\u001b[0m\u001b[0mtt\u001b[0m\u001b[1;33m)\u001b[0m\u001b[1;33m\u001b[0m\u001b[1;33m\u001b[0m\u001b[0m\n\u001b[0m",
      "\u001b[1;32m~\\miniconda3\\envs\\pro1\\lib\\site-packages\\flask\\json\\__init__.py\u001b[0m in \u001b[0;36mjsonify\u001b[1;34m(*args, **kwargs)\u001b[0m\n\u001b[0;32m    347\u001b[0m     \u001b[0mseparators\u001b[0m \u001b[1;33m=\u001b[0m \u001b[1;33m(\u001b[0m\u001b[1;34m\",\"\u001b[0m\u001b[1;33m,\u001b[0m \u001b[1;34m\":\"\u001b[0m\u001b[1;33m)\u001b[0m\u001b[1;33m\u001b[0m\u001b[1;33m\u001b[0m\u001b[0m\n\u001b[0;32m    348\u001b[0m \u001b[1;33m\u001b[0m\u001b[0m\n\u001b[1;32m--> 349\u001b[1;33m     \u001b[1;32mif\u001b[0m \u001b[0mcurrent_app\u001b[0m\u001b[1;33m.\u001b[0m\u001b[0mconfig\u001b[0m\u001b[1;33m[\u001b[0m\u001b[1;34m\"JSONIFY_PRETTYPRINT_REGULAR\"\u001b[0m\u001b[1;33m]\u001b[0m \u001b[1;32mor\u001b[0m \u001b[0mcurrent_app\u001b[0m\u001b[1;33m.\u001b[0m\u001b[0mdebug\u001b[0m\u001b[1;33m:\u001b[0m\u001b[1;33m\u001b[0m\u001b[1;33m\u001b[0m\u001b[0m\n\u001b[0m\u001b[0;32m    350\u001b[0m         \u001b[0mindent\u001b[0m \u001b[1;33m=\u001b[0m \u001b[1;36m2\u001b[0m\u001b[1;33m\u001b[0m\u001b[1;33m\u001b[0m\u001b[0m\n\u001b[0;32m    351\u001b[0m         \u001b[0mseparators\u001b[0m \u001b[1;33m=\u001b[0m \u001b[1;33m(\u001b[0m\u001b[1;34m\", \"\u001b[0m\u001b[1;33m,\u001b[0m \u001b[1;34m\": \"\u001b[0m\u001b[1;33m)\u001b[0m\u001b[1;33m\u001b[0m\u001b[1;33m\u001b[0m\u001b[0m\n",
      "\u001b[1;32m~\\miniconda3\\envs\\pro1\\lib\\site-packages\\werkzeug\\local.py\u001b[0m in \u001b[0;36m__get__\u001b[1;34m(self, instance, owner)\u001b[0m\n\u001b[0;32m    430\u001b[0m \u001b[1;33m\u001b[0m\u001b[0m\n\u001b[0;32m    431\u001b[0m         \u001b[1;32mtry\u001b[0m\u001b[1;33m:\u001b[0m\u001b[1;33m\u001b[0m\u001b[1;33m\u001b[0m\u001b[0m\n\u001b[1;32m--> 432\u001b[1;33m             \u001b[0mobj\u001b[0m \u001b[1;33m=\u001b[0m \u001b[0minstance\u001b[0m\u001b[1;33m.\u001b[0m\u001b[0m_get_current_object\u001b[0m\u001b[1;33m(\u001b[0m\u001b[1;33m)\u001b[0m\u001b[1;33m\u001b[0m\u001b[1;33m\u001b[0m\u001b[0m\n\u001b[0m\u001b[0;32m    433\u001b[0m         \u001b[1;32mexcept\u001b[0m \u001b[0mRuntimeError\u001b[0m\u001b[1;33m:\u001b[0m\u001b[1;33m\u001b[0m\u001b[1;33m\u001b[0m\u001b[0m\n\u001b[0;32m    434\u001b[0m             \u001b[1;32mif\u001b[0m \u001b[0mself\u001b[0m\u001b[1;33m.\u001b[0m\u001b[0mfallback\u001b[0m \u001b[1;32mis\u001b[0m \u001b[1;32mNone\u001b[0m\u001b[1;33m:\u001b[0m\u001b[1;33m\u001b[0m\u001b[1;33m\u001b[0m\u001b[0m\n",
      "\u001b[1;32m~\\miniconda3\\envs\\pro1\\lib\\site-packages\\werkzeug\\local.py\u001b[0m in \u001b[0;36m_get_current_object\u001b[1;34m(self)\u001b[0m\n\u001b[0;32m    552\u001b[0m         \"\"\"\n\u001b[0;32m    553\u001b[0m         \u001b[1;32mif\u001b[0m \u001b[1;32mnot\u001b[0m \u001b[0mhasattr\u001b[0m\u001b[1;33m(\u001b[0m\u001b[0mself\u001b[0m\u001b[1;33m.\u001b[0m\u001b[0m__local\u001b[0m\u001b[1;33m,\u001b[0m \u001b[1;34m\"__release_local__\"\u001b[0m\u001b[1;33m)\u001b[0m\u001b[1;33m:\u001b[0m  \u001b[1;31m# type: ignore\u001b[0m\u001b[1;33m\u001b[0m\u001b[1;33m\u001b[0m\u001b[0m\n\u001b[1;32m--> 554\u001b[1;33m             \u001b[1;32mreturn\u001b[0m \u001b[0mself\u001b[0m\u001b[1;33m.\u001b[0m\u001b[0m__local\u001b[0m\u001b[1;33m(\u001b[0m\u001b[1;33m)\u001b[0m  \u001b[1;31m# type: ignore\u001b[0m\u001b[1;33m\u001b[0m\u001b[1;33m\u001b[0m\u001b[0m\n\u001b[0m\u001b[0;32m    555\u001b[0m \u001b[1;33m\u001b[0m\u001b[0m\n\u001b[0;32m    556\u001b[0m         \u001b[1;32mtry\u001b[0m\u001b[1;33m:\u001b[0m\u001b[1;33m\u001b[0m\u001b[1;33m\u001b[0m\u001b[0m\n",
      "\u001b[1;32m~\\miniconda3\\envs\\pro1\\lib\\site-packages\\flask\\globals.py\u001b[0m in \u001b[0;36m_find_app\u001b[1;34m()\u001b[0m\n\u001b[0;32m     45\u001b[0m     \u001b[0mtop\u001b[0m \u001b[1;33m=\u001b[0m \u001b[0m_app_ctx_stack\u001b[0m\u001b[1;33m.\u001b[0m\u001b[0mtop\u001b[0m\u001b[1;33m\u001b[0m\u001b[1;33m\u001b[0m\u001b[0m\n\u001b[0;32m     46\u001b[0m     \u001b[1;32mif\u001b[0m \u001b[0mtop\u001b[0m \u001b[1;32mis\u001b[0m \u001b[1;32mNone\u001b[0m\u001b[1;33m:\u001b[0m\u001b[1;33m\u001b[0m\u001b[1;33m\u001b[0m\u001b[0m\n\u001b[1;32m---> 47\u001b[1;33m         \u001b[1;32mraise\u001b[0m \u001b[0mRuntimeError\u001b[0m\u001b[1;33m(\u001b[0m\u001b[0m_app_ctx_err_msg\u001b[0m\u001b[1;33m)\u001b[0m\u001b[1;33m\u001b[0m\u001b[1;33m\u001b[0m\u001b[0m\n\u001b[0m\u001b[0;32m     48\u001b[0m     \u001b[1;32mreturn\u001b[0m \u001b[0mtop\u001b[0m\u001b[1;33m.\u001b[0m\u001b[0mapp\u001b[0m\u001b[1;33m\u001b[0m\u001b[1;33m\u001b[0m\u001b[0m\n\u001b[0;32m     49\u001b[0m \u001b[1;33m\u001b[0m\u001b[0m\n",
      "\u001b[1;31mRuntimeError\u001b[0m: Working outside of application context.\n\nThis typically means that you attempted to use functionality that needed\nto interface with the current application object in some way. To solve\nthis, set up an application context with app.app_context().  See the\ndocumentation for more information."
     ]
    }
   ],
   "source": [
    "from flask import Blueprint, stream_with_context, request, Response, jsonify\n",
    "jsonify(tt)"
   ]
  },
  {
   "cell_type": "code",
   "execution_count": 83,
   "metadata": {},
   "outputs": [
    {
     "data": {
      "text/html": [
       "<div>\n",
       "<style scoped>\n",
       "    .dataframe tbody tr th:only-of-type {\n",
       "        vertical-align: middle;\n",
       "    }\n",
       "\n",
       "    .dataframe tbody tr th {\n",
       "        vertical-align: top;\n",
       "    }\n",
       "\n",
       "    .dataframe thead th {\n",
       "        text-align: right;\n",
       "    }\n",
       "</style>\n",
       "<table border=\"1\" class=\"dataframe\">\n",
       "  <thead>\n",
       "    <tr style=\"text-align: right;\">\n",
       "      <th></th>\n",
       "      <th>ip</th>\n",
       "      <th>user_id</th>\n",
       "      <th>plug_name</th>\n",
       "      <th>on_state</th>\n",
       "    </tr>\n",
       "  </thead>\n",
       "  <tbody>\n",
       "    <tr>\n",
       "      <th>0</th>\n",
       "      <td>192.168.0.118</td>\n",
       "      <td>ehrnc</td>\n",
       "      <td>test_1</td>\n",
       "      <td>False</td>\n",
       "    </tr>\n",
       "  </tbody>\n",
       "</table>\n",
       "</div>"
      ],
      "text/plain": [
       "              ip user_id plug_name  on_state\n",
       "0  192.168.0.118   ehrnc    test_1     False"
      ]
     },
     "execution_count": 83,
     "metadata": {},
     "output_type": "execute_result"
    }
   ],
   "source": [
    "path = os.getcwd()\n",
    "tt = pd.read_csv(os.path.join(path,'TapoP100',\"DB\",\"controller_data\",'ehrnc'+'.csv',))\n",
    "tt"
   ]
  },
  {
   "cell_type": "code",
   "execution_count": 92,
   "metadata": {},
   "outputs": [
    {
     "data": {
      "text/plain": [
       "{'192.168.0.118'}"
      ]
     },
     "execution_count": 92,
     "metadata": {},
     "output_type": "execute_result"
    }
   ],
   "source": [
    "len(tt.ip)\n",
    "\n",
    "sample_data = {\n",
    "        'ip':'192.168.0.118',\n",
    "        'user_id':'ehrnc',\n",
    "        'plug_name':'test_2',\n",
    "        'on_state':'false',\n",
    "    }\n",
    "tt.append(sample_data,ignore_index=True).ip\n",
    "\n",
    "\n",
    "\n",
    "set(tt.append(sample_data,ignore_index=True).ip)"
   ]
  },
  {
   "cell_type": "code",
   "execution_count": 93,
   "metadata": {},
   "outputs": [
    {
     "data": {
      "text/plain": [
       "{'192.168.0.118'}"
      ]
     },
     "execution_count": 93,
     "metadata": {},
     "output_type": "execute_result"
    }
   ],
   "source": [
    "set(tt.ip)"
   ]
  },
  {
   "cell_type": "code",
   "execution_count": 94,
   "metadata": {},
   "outputs": [
    {
     "data": {
      "text/plain": [
       "True"
      ]
     },
     "execution_count": 94,
     "metadata": {},
     "output_type": "execute_result"
    }
   ],
   "source": [
    "set(tt.ip) == set(tt.append(sample_data,ignore_index=True).ip)"
   ]
  },
  {
   "cell_type": "code",
   "execution_count": 91,
   "metadata": {},
   "outputs": [
    {
     "data": {
      "text/plain": [
       "0    192.168.0.118\n",
       "1    192.168.0.118\n",
       "Name: ip, dtype: object"
      ]
     },
     "execution_count": 91,
     "metadata": {},
     "output_type": "execute_result"
    }
   ],
   "source": [
    "tt.append(sample_data,ignore_index=True).ip"
   ]
  },
  {
   "cell_type": "code",
   "execution_count": 89,
   "metadata": {},
   "outputs": [
    {
     "data": {
      "text/plain": [
       "array(['192.168.0.118'], dtype=object)"
      ]
     },
     "execution_count": 89,
     "metadata": {},
     "output_type": "execute_result"
    }
   ],
   "source": [
    "tt.ip.values"
   ]
  },
  {
   "cell_type": "code",
   "execution_count": 82,
   "metadata": {},
   "outputs": [
    {
     "data": {
      "text/plain": [
       "0"
      ]
     },
     "execution_count": 82,
     "metadata": {},
     "output_type": "execute_result"
    }
   ],
   "source": [
    "p_controller = P100('192.168.0.118','rhqudrjs2@naver.com','qudrjs12#')\n",
    "p_controller.handshake()\n",
    "p_controller.login()\n",
    "\n",
    "p_controller.getDeviceInfo()['result']['on_time']"
   ]
  },
  {
   "cell_type": "code",
   "execution_count": 104,
   "metadata": {},
   "outputs": [
    {
     "data": {
      "text/html": [
       "<div>\n",
       "<style scoped>\n",
       "    .dataframe tbody tr th:only-of-type {\n",
       "        vertical-align: middle;\n",
       "    }\n",
       "\n",
       "    .dataframe tbody tr th {\n",
       "        vertical-align: top;\n",
       "    }\n",
       "\n",
       "    .dataframe thead th {\n",
       "        text-align: right;\n",
       "    }\n",
       "</style>\n",
       "<table border=\"1\" class=\"dataframe\">\n",
       "  <thead>\n",
       "    <tr style=\"text-align: right;\">\n",
       "      <th></th>\n",
       "      <th>ip</th>\n",
       "      <th>user_id</th>\n",
       "      <th>plug_name</th>\n",
       "      <th>on_state</th>\n",
       "    </tr>\n",
       "  </thead>\n",
       "  <tbody>\n",
       "    <tr>\n",
       "      <th>0</th>\n",
       "      <td>192.168.0.118</td>\n",
       "      <td>ehrnc</td>\n",
       "      <td>gfgfgf</td>\n",
       "      <td>False</td>\n",
       "    </tr>\n",
       "  </tbody>\n",
       "</table>\n",
       "</div>"
      ],
      "text/plain": [
       "              ip user_id plug_name  on_state\n",
       "0  192.168.0.118   ehrnc    gfgfgf     False"
      ]
     },
     "execution_count": 104,
     "metadata": {},
     "output_type": "execute_result"
    }
   ],
   "source": [
    "ip = '192.168.0.118'\n",
    "user_id = 'ehrnc'\n",
    "email = 'rhqudrjs2@naver.com'\n",
    "pw = 'qudrjs12#'\n",
    "\n",
    "\n",
    "\n",
    "p_controller = P100(ip,email,pw)\n",
    "p_controller.handshake()\n",
    "p_controller.login()\n",
    "p_controller.turnOn()\n",
    "\n",
    "\n",
    "path = os.getcwd()\n",
    "tt = pd.read_csv(os.path.join(path,'TapoP100',\"DB\",\"controller_data\",'ehrnc'+'.csv',))\n",
    "tt.loc[tt.ip == ip,['on_state']] = False\n",
    "tt"
   ]
  },
  {
   "cell_type": "code",
   "execution_count": 107,
   "metadata": {},
   "outputs": [
    {
     "data": {
      "text/html": [
       "<div>\n",
       "<style scoped>\n",
       "    .dataframe tbody tr th:only-of-type {\n",
       "        vertical-align: middle;\n",
       "    }\n",
       "\n",
       "    .dataframe tbody tr th {\n",
       "        vertical-align: top;\n",
       "    }\n",
       "\n",
       "    .dataframe thead th {\n",
       "        text-align: right;\n",
       "    }\n",
       "</style>\n",
       "<table border=\"1\" class=\"dataframe\">\n",
       "  <thead>\n",
       "    <tr style=\"text-align: right;\">\n",
       "      <th></th>\n",
       "      <th>ip</th>\n",
       "      <th>user_id</th>\n",
       "      <th>plug_name</th>\n",
       "      <th>on_state</th>\n",
       "    </tr>\n",
       "  </thead>\n",
       "  <tbody>\n",
       "    <tr>\n",
       "      <th>0</th>\n",
       "      <td>192.168.0.118</td>\n",
       "      <td>ehrnc</td>\n",
       "      <td>gfgfgf</td>\n",
       "      <td>False</td>\n",
       "    </tr>\n",
       "  </tbody>\n",
       "</table>\n",
       "</div>"
      ],
      "text/plain": [
       "              ip user_id plug_name  on_state\n",
       "0  192.168.0.118   ehrnc    gfgfgf     False"
      ]
     },
     "execution_count": 107,
     "metadata": {},
     "output_type": "execute_result"
    }
   ],
   "source": [
    "ip = '192.168.0.118'\n",
    "user_id = 'ehrnc'\n",
    "email = 'rhqudrjs2@naver.com'\n",
    "pw = 'qudrjs12#'\n",
    "\n",
    "\n",
    "\n",
    "p_controller = P100(ip,email,pw)\n",
    "p_controller.handshake()\n",
    "p_controller.login()\n",
    "p_controller.turnOff()\n",
    "\n",
    "\n",
    "path = os.getcwd()\n",
    "tt = pd.read_csv(os.path.join(path,'TapoP100',\"DB\",\"controller_data\",'ehrnc'+'.csv',))\n",
    "tt.loc[tt.ip == ip,['on_state']] = True\n",
    "tt"
   ]
  },
  {
   "cell_type": "code",
   "execution_count": 111,
   "metadata": {},
   "outputs": [],
   "source": [
    "tt.loc[tt.ip == ip,['on_state']] = False"
   ]
  },
  {
   "cell_type": "code",
   "execution_count": 112,
   "metadata": {},
   "outputs": [
    {
     "data": {
      "text/html": [
       "<div>\n",
       "<style scoped>\n",
       "    .dataframe tbody tr th:only-of-type {\n",
       "        vertical-align: middle;\n",
       "    }\n",
       "\n",
       "    .dataframe tbody tr th {\n",
       "        vertical-align: top;\n",
       "    }\n",
       "\n",
       "    .dataframe thead th {\n",
       "        text-align: right;\n",
       "    }\n",
       "</style>\n",
       "<table border=\"1\" class=\"dataframe\">\n",
       "  <thead>\n",
       "    <tr style=\"text-align: right;\">\n",
       "      <th></th>\n",
       "      <th>ip</th>\n",
       "      <th>user_id</th>\n",
       "      <th>plug_name</th>\n",
       "      <th>on_state</th>\n",
       "    </tr>\n",
       "  </thead>\n",
       "  <tbody>\n",
       "    <tr>\n",
       "      <th>0</th>\n",
       "      <td>192.168.0.118</td>\n",
       "      <td>ehrnc</td>\n",
       "      <td>gfgfgf</td>\n",
       "      <td>False</td>\n",
       "    </tr>\n",
       "  </tbody>\n",
       "</table>\n",
       "</div>"
      ],
      "text/plain": [
       "              ip user_id plug_name  on_state\n",
       "0  192.168.0.118   ehrnc    gfgfgf     False"
      ]
     },
     "execution_count": 112,
     "metadata": {},
     "output_type": "execute_result"
    }
   ],
   "source": [
    "tt"
   ]
  },
  {
   "cell_type": "code",
   "execution_count": 5,
   "metadata": {},
   "outputs": [
    {
     "ename": "ConnectTimeout",
     "evalue": "HTTPConnectionPool(host='192.168.0.12', port=80): Max retries exceeded with url: /app (Caused by ConnectTimeoutError(<urllib3.connection.HTTPConnection object at 0x0000021DC2225748>, 'Connection to 192.168.0.12 timed out. (connect timeout=2)'))",
     "output_type": "error",
     "traceback": [
      "\u001b[1;31m---------------------------------------------------------------------------\u001b[0m",
      "\u001b[1;31mtimeout\u001b[0m                                   Traceback (most recent call last)",
      "\u001b[1;32mc:\\Users\\Go\\miniconda3\\envs\\pro1\\lib\\site-packages\\urllib3\\connection.py\u001b[0m in \u001b[0;36m_new_conn\u001b[1;34m(self)\u001b[0m\n\u001b[0;32m    174\u001b[0m             conn = connection.create_connection(\n\u001b[1;32m--> 175\u001b[1;33m                 \u001b[1;33m(\u001b[0m\u001b[0mself\u001b[0m\u001b[1;33m.\u001b[0m\u001b[0m_dns_host\u001b[0m\u001b[1;33m,\u001b[0m \u001b[0mself\u001b[0m\u001b[1;33m.\u001b[0m\u001b[0mport\u001b[0m\u001b[1;33m)\u001b[0m\u001b[1;33m,\u001b[0m \u001b[0mself\u001b[0m\u001b[1;33m.\u001b[0m\u001b[0mtimeout\u001b[0m\u001b[1;33m,\u001b[0m \u001b[1;33m**\u001b[0m\u001b[0mextra_kw\u001b[0m\u001b[1;33m\u001b[0m\u001b[1;33m\u001b[0m\u001b[0m\n\u001b[0m\u001b[0;32m    176\u001b[0m             )\n",
      "\u001b[1;32mc:\\Users\\Go\\miniconda3\\envs\\pro1\\lib\\site-packages\\urllib3\\util\\connection.py\u001b[0m in \u001b[0;36mcreate_connection\u001b[1;34m(address, timeout, source_address, socket_options)\u001b[0m\n\u001b[0;32m     95\u001b[0m     \u001b[1;32mif\u001b[0m \u001b[0merr\u001b[0m \u001b[1;32mis\u001b[0m \u001b[1;32mnot\u001b[0m \u001b[1;32mNone\u001b[0m\u001b[1;33m:\u001b[0m\u001b[1;33m\u001b[0m\u001b[1;33m\u001b[0m\u001b[0m\n\u001b[1;32m---> 96\u001b[1;33m         \u001b[1;32mraise\u001b[0m \u001b[0merr\u001b[0m\u001b[1;33m\u001b[0m\u001b[1;33m\u001b[0m\u001b[0m\n\u001b[0m\u001b[0;32m     97\u001b[0m \u001b[1;33m\u001b[0m\u001b[0m\n",
      "\u001b[1;32mc:\\Users\\Go\\miniconda3\\envs\\pro1\\lib\\site-packages\\urllib3\\util\\connection.py\u001b[0m in \u001b[0;36mcreate_connection\u001b[1;34m(address, timeout, source_address, socket_options)\u001b[0m\n\u001b[0;32m     85\u001b[0m                 \u001b[0msock\u001b[0m\u001b[1;33m.\u001b[0m\u001b[0mbind\u001b[0m\u001b[1;33m(\u001b[0m\u001b[0msource_address\u001b[0m\u001b[1;33m)\u001b[0m\u001b[1;33m\u001b[0m\u001b[1;33m\u001b[0m\u001b[0m\n\u001b[1;32m---> 86\u001b[1;33m             \u001b[0msock\u001b[0m\u001b[1;33m.\u001b[0m\u001b[0mconnect\u001b[0m\u001b[1;33m(\u001b[0m\u001b[0msa\u001b[0m\u001b[1;33m)\u001b[0m\u001b[1;33m\u001b[0m\u001b[1;33m\u001b[0m\u001b[0m\n\u001b[0m\u001b[0;32m     87\u001b[0m             \u001b[1;32mreturn\u001b[0m \u001b[0msock\u001b[0m\u001b[1;33m\u001b[0m\u001b[1;33m\u001b[0m\u001b[0m\n",
      "\u001b[1;31mtimeout\u001b[0m: timed out",
      "\nDuring handling of the above exception, another exception occurred:\n",
      "\u001b[1;31mConnectTimeoutError\u001b[0m                       Traceback (most recent call last)",
      "\u001b[1;32mc:\\Users\\Go\\miniconda3\\envs\\pro1\\lib\\site-packages\\urllib3\\connectionpool.py\u001b[0m in \u001b[0;36murlopen\u001b[1;34m(self, method, url, body, headers, retries, redirect, assert_same_host, timeout, pool_timeout, release_conn, chunked, body_pos, **response_kw)\u001b[0m\n\u001b[0;32m    705\u001b[0m                 \u001b[0mheaders\u001b[0m\u001b[1;33m=\u001b[0m\u001b[0mheaders\u001b[0m\u001b[1;33m,\u001b[0m\u001b[1;33m\u001b[0m\u001b[1;33m\u001b[0m\u001b[0m\n\u001b[1;32m--> 706\u001b[1;33m                 \u001b[0mchunked\u001b[0m\u001b[1;33m=\u001b[0m\u001b[0mchunked\u001b[0m\u001b[1;33m,\u001b[0m\u001b[1;33m\u001b[0m\u001b[1;33m\u001b[0m\u001b[0m\n\u001b[0m\u001b[0;32m    707\u001b[0m             )\n",
      "\u001b[1;32mc:\\Users\\Go\\miniconda3\\envs\\pro1\\lib\\site-packages\\urllib3\\connectionpool.py\u001b[0m in \u001b[0;36m_make_request\u001b[1;34m(self, conn, method, url, timeout, chunked, **httplib_request_kw)\u001b[0m\n\u001b[0;32m    393\u001b[0m             \u001b[1;32melse\u001b[0m\u001b[1;33m:\u001b[0m\u001b[1;33m\u001b[0m\u001b[1;33m\u001b[0m\u001b[0m\n\u001b[1;32m--> 394\u001b[1;33m                 \u001b[0mconn\u001b[0m\u001b[1;33m.\u001b[0m\u001b[0mrequest\u001b[0m\u001b[1;33m(\u001b[0m\u001b[0mmethod\u001b[0m\u001b[1;33m,\u001b[0m \u001b[0murl\u001b[0m\u001b[1;33m,\u001b[0m \u001b[1;33m**\u001b[0m\u001b[0mhttplib_request_kw\u001b[0m\u001b[1;33m)\u001b[0m\u001b[1;33m\u001b[0m\u001b[1;33m\u001b[0m\u001b[0m\n\u001b[0m\u001b[0;32m    395\u001b[0m \u001b[1;33m\u001b[0m\u001b[0m\n",
      "\u001b[1;32mc:\\Users\\Go\\miniconda3\\envs\\pro1\\lib\\site-packages\\urllib3\\connection.py\u001b[0m in \u001b[0;36mrequest\u001b[1;34m(self, method, url, body, headers)\u001b[0m\n\u001b[0;32m    238\u001b[0m             \u001b[0mheaders\u001b[0m\u001b[1;33m[\u001b[0m\u001b[1;34m\"User-Agent\"\u001b[0m\u001b[1;33m]\u001b[0m \u001b[1;33m=\u001b[0m \u001b[0m_get_default_user_agent\u001b[0m\u001b[1;33m(\u001b[0m\u001b[1;33m)\u001b[0m\u001b[1;33m\u001b[0m\u001b[1;33m\u001b[0m\u001b[0m\n\u001b[1;32m--> 239\u001b[1;33m         \u001b[0msuper\u001b[0m\u001b[1;33m(\u001b[0m\u001b[0mHTTPConnection\u001b[0m\u001b[1;33m,\u001b[0m \u001b[0mself\u001b[0m\u001b[1;33m)\u001b[0m\u001b[1;33m.\u001b[0m\u001b[0mrequest\u001b[0m\u001b[1;33m(\u001b[0m\u001b[0mmethod\u001b[0m\u001b[1;33m,\u001b[0m \u001b[0murl\u001b[0m\u001b[1;33m,\u001b[0m \u001b[0mbody\u001b[0m\u001b[1;33m=\u001b[0m\u001b[0mbody\u001b[0m\u001b[1;33m,\u001b[0m \u001b[0mheaders\u001b[0m\u001b[1;33m=\u001b[0m\u001b[0mheaders\u001b[0m\u001b[1;33m)\u001b[0m\u001b[1;33m\u001b[0m\u001b[1;33m\u001b[0m\u001b[0m\n\u001b[0m\u001b[0;32m    240\u001b[0m \u001b[1;33m\u001b[0m\u001b[0m\n",
      "\u001b[1;32mc:\\Users\\Go\\miniconda3\\envs\\pro1\\lib\\http\\client.py\u001b[0m in \u001b[0;36mrequest\u001b[1;34m(self, method, url, body, headers, encode_chunked)\u001b[0m\n\u001b[0;32m   1280\u001b[0m         \u001b[1;34m\"\"\"Send a complete request to the server.\"\"\"\u001b[0m\u001b[1;33m\u001b[0m\u001b[1;33m\u001b[0m\u001b[0m\n\u001b[1;32m-> 1281\u001b[1;33m         \u001b[0mself\u001b[0m\u001b[1;33m.\u001b[0m\u001b[0m_send_request\u001b[0m\u001b[1;33m(\u001b[0m\u001b[0mmethod\u001b[0m\u001b[1;33m,\u001b[0m \u001b[0murl\u001b[0m\u001b[1;33m,\u001b[0m \u001b[0mbody\u001b[0m\u001b[1;33m,\u001b[0m \u001b[0mheaders\u001b[0m\u001b[1;33m,\u001b[0m \u001b[0mencode_chunked\u001b[0m\u001b[1;33m)\u001b[0m\u001b[1;33m\u001b[0m\u001b[1;33m\u001b[0m\u001b[0m\n\u001b[0m\u001b[0;32m   1282\u001b[0m \u001b[1;33m\u001b[0m\u001b[0m\n",
      "\u001b[1;32mc:\\Users\\Go\\miniconda3\\envs\\pro1\\lib\\http\\client.py\u001b[0m in \u001b[0;36m_send_request\u001b[1;34m(self, method, url, body, headers, encode_chunked)\u001b[0m\n\u001b[0;32m   1326\u001b[0m             \u001b[0mbody\u001b[0m \u001b[1;33m=\u001b[0m \u001b[0m_encode\u001b[0m\u001b[1;33m(\u001b[0m\u001b[0mbody\u001b[0m\u001b[1;33m,\u001b[0m \u001b[1;34m'body'\u001b[0m\u001b[1;33m)\u001b[0m\u001b[1;33m\u001b[0m\u001b[1;33m\u001b[0m\u001b[0m\n\u001b[1;32m-> 1327\u001b[1;33m         \u001b[0mself\u001b[0m\u001b[1;33m.\u001b[0m\u001b[0mendheaders\u001b[0m\u001b[1;33m(\u001b[0m\u001b[0mbody\u001b[0m\u001b[1;33m,\u001b[0m \u001b[0mencode_chunked\u001b[0m\u001b[1;33m=\u001b[0m\u001b[0mencode_chunked\u001b[0m\u001b[1;33m)\u001b[0m\u001b[1;33m\u001b[0m\u001b[1;33m\u001b[0m\u001b[0m\n\u001b[0m\u001b[0;32m   1328\u001b[0m \u001b[1;33m\u001b[0m\u001b[0m\n",
      "\u001b[1;32mc:\\Users\\Go\\miniconda3\\envs\\pro1\\lib\\http\\client.py\u001b[0m in \u001b[0;36mendheaders\u001b[1;34m(self, message_body, encode_chunked)\u001b[0m\n\u001b[0;32m   1275\u001b[0m             \u001b[1;32mraise\u001b[0m \u001b[0mCannotSendHeader\u001b[0m\u001b[1;33m(\u001b[0m\u001b[1;33m)\u001b[0m\u001b[1;33m\u001b[0m\u001b[1;33m\u001b[0m\u001b[0m\n\u001b[1;32m-> 1276\u001b[1;33m         \u001b[0mself\u001b[0m\u001b[1;33m.\u001b[0m\u001b[0m_send_output\u001b[0m\u001b[1;33m(\u001b[0m\u001b[0mmessage_body\u001b[0m\u001b[1;33m,\u001b[0m \u001b[0mencode_chunked\u001b[0m\u001b[1;33m=\u001b[0m\u001b[0mencode_chunked\u001b[0m\u001b[1;33m)\u001b[0m\u001b[1;33m\u001b[0m\u001b[1;33m\u001b[0m\u001b[0m\n\u001b[0m\u001b[0;32m   1277\u001b[0m \u001b[1;33m\u001b[0m\u001b[0m\n",
      "\u001b[1;32mc:\\Users\\Go\\miniconda3\\envs\\pro1\\lib\\http\\client.py\u001b[0m in \u001b[0;36m_send_output\u001b[1;34m(self, message_body, encode_chunked)\u001b[0m\n\u001b[0;32m   1035\u001b[0m         \u001b[1;32mdel\u001b[0m \u001b[0mself\u001b[0m\u001b[1;33m.\u001b[0m\u001b[0m_buffer\u001b[0m\u001b[1;33m[\u001b[0m\u001b[1;33m:\u001b[0m\u001b[1;33m]\u001b[0m\u001b[1;33m\u001b[0m\u001b[1;33m\u001b[0m\u001b[0m\n\u001b[1;32m-> 1036\u001b[1;33m         \u001b[0mself\u001b[0m\u001b[1;33m.\u001b[0m\u001b[0msend\u001b[0m\u001b[1;33m(\u001b[0m\u001b[0mmsg\u001b[0m\u001b[1;33m)\u001b[0m\u001b[1;33m\u001b[0m\u001b[1;33m\u001b[0m\u001b[0m\n\u001b[0m\u001b[0;32m   1037\u001b[0m \u001b[1;33m\u001b[0m\u001b[0m\n",
      "\u001b[1;32mc:\\Users\\Go\\miniconda3\\envs\\pro1\\lib\\http\\client.py\u001b[0m in \u001b[0;36msend\u001b[1;34m(self, data)\u001b[0m\n\u001b[0;32m    975\u001b[0m             \u001b[1;32mif\u001b[0m \u001b[0mself\u001b[0m\u001b[1;33m.\u001b[0m\u001b[0mauto_open\u001b[0m\u001b[1;33m:\u001b[0m\u001b[1;33m\u001b[0m\u001b[1;33m\u001b[0m\u001b[0m\n\u001b[1;32m--> 976\u001b[1;33m                 \u001b[0mself\u001b[0m\u001b[1;33m.\u001b[0m\u001b[0mconnect\u001b[0m\u001b[1;33m(\u001b[0m\u001b[1;33m)\u001b[0m\u001b[1;33m\u001b[0m\u001b[1;33m\u001b[0m\u001b[0m\n\u001b[0m\u001b[0;32m    977\u001b[0m             \u001b[1;32melse\u001b[0m\u001b[1;33m:\u001b[0m\u001b[1;33m\u001b[0m\u001b[1;33m\u001b[0m\u001b[0m\n",
      "\u001b[1;32mc:\\Users\\Go\\miniconda3\\envs\\pro1\\lib\\site-packages\\urllib3\\connection.py\u001b[0m in \u001b[0;36mconnect\u001b[1;34m(self)\u001b[0m\n\u001b[0;32m    204\u001b[0m     \u001b[1;32mdef\u001b[0m \u001b[0mconnect\u001b[0m\u001b[1;33m(\u001b[0m\u001b[0mself\u001b[0m\u001b[1;33m)\u001b[0m\u001b[1;33m:\u001b[0m\u001b[1;33m\u001b[0m\u001b[1;33m\u001b[0m\u001b[0m\n\u001b[1;32m--> 205\u001b[1;33m         \u001b[0mconn\u001b[0m \u001b[1;33m=\u001b[0m \u001b[0mself\u001b[0m\u001b[1;33m.\u001b[0m\u001b[0m_new_conn\u001b[0m\u001b[1;33m(\u001b[0m\u001b[1;33m)\u001b[0m\u001b[1;33m\u001b[0m\u001b[1;33m\u001b[0m\u001b[0m\n\u001b[0m\u001b[0;32m    206\u001b[0m         \u001b[0mself\u001b[0m\u001b[1;33m.\u001b[0m\u001b[0m_prepare_conn\u001b[0m\u001b[1;33m(\u001b[0m\u001b[0mconn\u001b[0m\u001b[1;33m)\u001b[0m\u001b[1;33m\u001b[0m\u001b[1;33m\u001b[0m\u001b[0m\n",
      "\u001b[1;32mc:\\Users\\Go\\miniconda3\\envs\\pro1\\lib\\site-packages\\urllib3\\connection.py\u001b[0m in \u001b[0;36m_new_conn\u001b[1;34m(self)\u001b[0m\n\u001b[0;32m    181\u001b[0m                 \u001b[1;34m\"Connection to %s timed out. (connect timeout=%s)\"\u001b[0m\u001b[1;33m\u001b[0m\u001b[1;33m\u001b[0m\u001b[0m\n\u001b[1;32m--> 182\u001b[1;33m                 \u001b[1;33m%\u001b[0m \u001b[1;33m(\u001b[0m\u001b[0mself\u001b[0m\u001b[1;33m.\u001b[0m\u001b[0mhost\u001b[0m\u001b[1;33m,\u001b[0m \u001b[0mself\u001b[0m\u001b[1;33m.\u001b[0m\u001b[0mtimeout\u001b[0m\u001b[1;33m)\u001b[0m\u001b[1;33m,\u001b[0m\u001b[1;33m\u001b[0m\u001b[1;33m\u001b[0m\u001b[0m\n\u001b[0m\u001b[0;32m    183\u001b[0m             )\n",
      "\u001b[1;31mConnectTimeoutError\u001b[0m: (<urllib3.connection.HTTPConnection object at 0x0000021DC2225748>, 'Connection to 192.168.0.12 timed out. (connect timeout=2)')",
      "\nDuring handling of the above exception, another exception occurred:\n",
      "\u001b[1;31mMaxRetryError\u001b[0m                             Traceback (most recent call last)",
      "\u001b[1;32mc:\\Users\\Go\\miniconda3\\envs\\pro1\\lib\\site-packages\\requests\\adapters.py\u001b[0m in \u001b[0;36msend\u001b[1;34m(self, request, stream, timeout, verify, cert, proxies)\u001b[0m\n\u001b[0;32m    449\u001b[0m                     \u001b[0mretries\u001b[0m\u001b[1;33m=\u001b[0m\u001b[0mself\u001b[0m\u001b[1;33m.\u001b[0m\u001b[0mmax_retries\u001b[0m\u001b[1;33m,\u001b[0m\u001b[1;33m\u001b[0m\u001b[1;33m\u001b[0m\u001b[0m\n\u001b[1;32m--> 450\u001b[1;33m                     \u001b[0mtimeout\u001b[0m\u001b[1;33m=\u001b[0m\u001b[0mtimeout\u001b[0m\u001b[1;33m\u001b[0m\u001b[1;33m\u001b[0m\u001b[0m\n\u001b[0m\u001b[0;32m    451\u001b[0m                 )\n",
      "\u001b[1;32mc:\\Users\\Go\\miniconda3\\envs\\pro1\\lib\\site-packages\\urllib3\\connectionpool.py\u001b[0m in \u001b[0;36murlopen\u001b[1;34m(self, method, url, body, headers, retries, redirect, assert_same_host, timeout, pool_timeout, release_conn, chunked, body_pos, **response_kw)\u001b[0m\n\u001b[0;32m    755\u001b[0m             retries = retries.increment(\n\u001b[1;32m--> 756\u001b[1;33m                 \u001b[0mmethod\u001b[0m\u001b[1;33m,\u001b[0m \u001b[0murl\u001b[0m\u001b[1;33m,\u001b[0m \u001b[0merror\u001b[0m\u001b[1;33m=\u001b[0m\u001b[0me\u001b[0m\u001b[1;33m,\u001b[0m \u001b[0m_pool\u001b[0m\u001b[1;33m=\u001b[0m\u001b[0mself\u001b[0m\u001b[1;33m,\u001b[0m \u001b[0m_stacktrace\u001b[0m\u001b[1;33m=\u001b[0m\u001b[0msys\u001b[0m\u001b[1;33m.\u001b[0m\u001b[0mexc_info\u001b[0m\u001b[1;33m(\u001b[0m\u001b[1;33m)\u001b[0m\u001b[1;33m[\u001b[0m\u001b[1;36m2\u001b[0m\u001b[1;33m]\u001b[0m\u001b[1;33m\u001b[0m\u001b[1;33m\u001b[0m\u001b[0m\n\u001b[0m\u001b[0;32m    757\u001b[0m             )\n",
      "\u001b[1;32mc:\\Users\\Go\\miniconda3\\envs\\pro1\\lib\\site-packages\\urllib3\\util\\retry.py\u001b[0m in \u001b[0;36mincrement\u001b[1;34m(self, method, url, response, error, _pool, _stacktrace)\u001b[0m\n\u001b[0;32m    573\u001b[0m         \u001b[1;32mif\u001b[0m \u001b[0mnew_retry\u001b[0m\u001b[1;33m.\u001b[0m\u001b[0mis_exhausted\u001b[0m\u001b[1;33m(\u001b[0m\u001b[1;33m)\u001b[0m\u001b[1;33m:\u001b[0m\u001b[1;33m\u001b[0m\u001b[1;33m\u001b[0m\u001b[0m\n\u001b[1;32m--> 574\u001b[1;33m             \u001b[1;32mraise\u001b[0m \u001b[0mMaxRetryError\u001b[0m\u001b[1;33m(\u001b[0m\u001b[0m_pool\u001b[0m\u001b[1;33m,\u001b[0m \u001b[0murl\u001b[0m\u001b[1;33m,\u001b[0m \u001b[0merror\u001b[0m \u001b[1;32mor\u001b[0m \u001b[0mResponseError\u001b[0m\u001b[1;33m(\u001b[0m\u001b[0mcause\u001b[0m\u001b[1;33m)\u001b[0m\u001b[1;33m)\u001b[0m\u001b[1;33m\u001b[0m\u001b[1;33m\u001b[0m\u001b[0m\n\u001b[0m\u001b[0;32m    575\u001b[0m \u001b[1;33m\u001b[0m\u001b[0m\n",
      "\u001b[1;31mMaxRetryError\u001b[0m: HTTPConnectionPool(host='192.168.0.12', port=80): Max retries exceeded with url: /app (Caused by ConnectTimeoutError(<urllib3.connection.HTTPConnection object at 0x0000021DC2225748>, 'Connection to 192.168.0.12 timed out. (connect timeout=2)'))",
      "\nDuring handling of the above exception, another exception occurred:\n",
      "\u001b[1;31mConnectTimeout\u001b[0m                            Traceback (most recent call last)",
      "\u001b[1;32m~\\AppData\\Local\\Temp/ipykernel_25248/3014602766.py\u001b[0m in \u001b[0;36m<module>\u001b[1;34m\u001b[0m\n\u001b[0;32m      7\u001b[0m \u001b[1;33m\u001b[0m\u001b[0m\n\u001b[0;32m      8\u001b[0m \u001b[0mp_controller\u001b[0m \u001b[1;33m=\u001b[0m \u001b[0mP100\u001b[0m\u001b[1;33m(\u001b[0m\u001b[0mip\u001b[0m\u001b[1;33m,\u001b[0m\u001b[0memail\u001b[0m\u001b[1;33m,\u001b[0m\u001b[0mpw\u001b[0m\u001b[1;33m)\u001b[0m\u001b[1;33m\u001b[0m\u001b[1;33m\u001b[0m\u001b[0m\n\u001b[1;32m----> 9\u001b[1;33m \u001b[0mp_controller\u001b[0m\u001b[1;33m.\u001b[0m\u001b[0mhandshake\u001b[0m\u001b[1;33m(\u001b[0m\u001b[1;33m)\u001b[0m\u001b[1;33m\u001b[0m\u001b[1;33m\u001b[0m\u001b[0m\n\u001b[0m\u001b[0;32m     10\u001b[0m \u001b[0mp_controller\u001b[0m\u001b[1;33m.\u001b[0m\u001b[0mlogin\u001b[0m\u001b[1;33m(\u001b[0m\u001b[1;33m)\u001b[0m\u001b[1;33m\u001b[0m\u001b[1;33m\u001b[0m\u001b[0m\n\u001b[0;32m     11\u001b[0m \u001b[0mp_controller\u001b[0m\u001b[1;33m.\u001b[0m\u001b[0mturnOn\u001b[0m\u001b[1;33m(\u001b[0m\u001b[1;33m)\u001b[0m\u001b[1;33m\u001b[0m\u001b[1;33m\u001b[0m\u001b[0m\n",
      "\u001b[1;32m~\\AppData\\Local\\Temp/ipykernel_25248/591135847.py\u001b[0m in \u001b[0;36mhandshake\u001b[1;34m(self)\u001b[0m\n\u001b[0;32m    127\u001b[0m \t\t}\n\u001b[0;32m    128\u001b[0m \u001b[1;33m\u001b[0m\u001b[0m\n\u001b[1;32m--> 129\u001b[1;33m                 \u001b[0mr\u001b[0m \u001b[1;33m=\u001b[0m \u001b[0mself\u001b[0m\u001b[1;33m.\u001b[0m\u001b[0msession\u001b[0m\u001b[1;33m.\u001b[0m\u001b[0mpost\u001b[0m\u001b[1;33m(\u001b[0m\u001b[0mURL\u001b[0m\u001b[1;33m,\u001b[0m \u001b[0mjson\u001b[0m\u001b[1;33m=\u001b[0m\u001b[0mPayload\u001b[0m\u001b[1;33m,\u001b[0m \u001b[0mtimeout\u001b[0m\u001b[1;33m=\u001b[0m\u001b[1;36m2\u001b[0m\u001b[1;33m)\u001b[0m\u001b[1;33m\u001b[0m\u001b[1;33m\u001b[0m\u001b[0m\n\u001b[0m\u001b[0;32m    130\u001b[0m \u001b[1;33m\u001b[0m\u001b[0m\n\u001b[0;32m    131\u001b[0m                 \u001b[0mencryptedKey\u001b[0m \u001b[1;33m=\u001b[0m \u001b[0mr\u001b[0m\u001b[1;33m.\u001b[0m\u001b[0mjson\u001b[0m\u001b[1;33m(\u001b[0m\u001b[1;33m)\u001b[0m\u001b[1;33m[\u001b[0m\u001b[1;34m\"result\"\u001b[0m\u001b[1;33m]\u001b[0m\u001b[1;33m[\u001b[0m\u001b[1;34m\"key\"\u001b[0m\u001b[1;33m]\u001b[0m\u001b[1;33m\u001b[0m\u001b[1;33m\u001b[0m\u001b[0m\n",
      "\u001b[1;32mc:\\Users\\Go\\miniconda3\\envs\\pro1\\lib\\site-packages\\requests\\sessions.py\u001b[0m in \u001b[0;36mpost\u001b[1;34m(self, url, data, json, **kwargs)\u001b[0m\n\u001b[0;32m    575\u001b[0m         \"\"\"\n\u001b[0;32m    576\u001b[0m \u001b[1;33m\u001b[0m\u001b[0m\n\u001b[1;32m--> 577\u001b[1;33m         \u001b[1;32mreturn\u001b[0m \u001b[0mself\u001b[0m\u001b[1;33m.\u001b[0m\u001b[0mrequest\u001b[0m\u001b[1;33m(\u001b[0m\u001b[1;34m'POST'\u001b[0m\u001b[1;33m,\u001b[0m \u001b[0murl\u001b[0m\u001b[1;33m,\u001b[0m \u001b[0mdata\u001b[0m\u001b[1;33m=\u001b[0m\u001b[0mdata\u001b[0m\u001b[1;33m,\u001b[0m \u001b[0mjson\u001b[0m\u001b[1;33m=\u001b[0m\u001b[0mjson\u001b[0m\u001b[1;33m,\u001b[0m \u001b[1;33m**\u001b[0m\u001b[0mkwargs\u001b[0m\u001b[1;33m)\u001b[0m\u001b[1;33m\u001b[0m\u001b[1;33m\u001b[0m\u001b[0m\n\u001b[0m\u001b[0;32m    578\u001b[0m \u001b[1;33m\u001b[0m\u001b[0m\n\u001b[0;32m    579\u001b[0m     \u001b[1;32mdef\u001b[0m \u001b[0mput\u001b[0m\u001b[1;33m(\u001b[0m\u001b[0mself\u001b[0m\u001b[1;33m,\u001b[0m \u001b[0murl\u001b[0m\u001b[1;33m,\u001b[0m \u001b[0mdata\u001b[0m\u001b[1;33m=\u001b[0m\u001b[1;32mNone\u001b[0m\u001b[1;33m,\u001b[0m \u001b[1;33m**\u001b[0m\u001b[0mkwargs\u001b[0m\u001b[1;33m)\u001b[0m\u001b[1;33m:\u001b[0m\u001b[1;33m\u001b[0m\u001b[1;33m\u001b[0m\u001b[0m\n",
      "\u001b[1;32mc:\\Users\\Go\\miniconda3\\envs\\pro1\\lib\\site-packages\\requests\\sessions.py\u001b[0m in \u001b[0;36mrequest\u001b[1;34m(self, method, url, params, data, headers, cookies, files, auth, timeout, allow_redirects, proxies, hooks, stream, verify, cert, json)\u001b[0m\n\u001b[0;32m    527\u001b[0m         }\n\u001b[0;32m    528\u001b[0m         \u001b[0msend_kwargs\u001b[0m\u001b[1;33m.\u001b[0m\u001b[0mupdate\u001b[0m\u001b[1;33m(\u001b[0m\u001b[0msettings\u001b[0m\u001b[1;33m)\u001b[0m\u001b[1;33m\u001b[0m\u001b[1;33m\u001b[0m\u001b[0m\n\u001b[1;32m--> 529\u001b[1;33m         \u001b[0mresp\u001b[0m \u001b[1;33m=\u001b[0m \u001b[0mself\u001b[0m\u001b[1;33m.\u001b[0m\u001b[0msend\u001b[0m\u001b[1;33m(\u001b[0m\u001b[0mprep\u001b[0m\u001b[1;33m,\u001b[0m \u001b[1;33m**\u001b[0m\u001b[0msend_kwargs\u001b[0m\u001b[1;33m)\u001b[0m\u001b[1;33m\u001b[0m\u001b[1;33m\u001b[0m\u001b[0m\n\u001b[0m\u001b[0;32m    530\u001b[0m \u001b[1;33m\u001b[0m\u001b[0m\n\u001b[0;32m    531\u001b[0m         \u001b[1;32mreturn\u001b[0m \u001b[0mresp\u001b[0m\u001b[1;33m\u001b[0m\u001b[1;33m\u001b[0m\u001b[0m\n",
      "\u001b[1;32mc:\\Users\\Go\\miniconda3\\envs\\pro1\\lib\\site-packages\\requests\\sessions.py\u001b[0m in \u001b[0;36msend\u001b[1;34m(self, request, **kwargs)\u001b[0m\n\u001b[0;32m    643\u001b[0m \u001b[1;33m\u001b[0m\u001b[0m\n\u001b[0;32m    644\u001b[0m         \u001b[1;31m# Send the request\u001b[0m\u001b[1;33m\u001b[0m\u001b[1;33m\u001b[0m\u001b[1;33m\u001b[0m\u001b[0m\n\u001b[1;32m--> 645\u001b[1;33m         \u001b[0mr\u001b[0m \u001b[1;33m=\u001b[0m \u001b[0madapter\u001b[0m\u001b[1;33m.\u001b[0m\u001b[0msend\u001b[0m\u001b[1;33m(\u001b[0m\u001b[0mrequest\u001b[0m\u001b[1;33m,\u001b[0m \u001b[1;33m**\u001b[0m\u001b[0mkwargs\u001b[0m\u001b[1;33m)\u001b[0m\u001b[1;33m\u001b[0m\u001b[1;33m\u001b[0m\u001b[0m\n\u001b[0m\u001b[0;32m    646\u001b[0m \u001b[1;33m\u001b[0m\u001b[0m\n\u001b[0;32m    647\u001b[0m         \u001b[1;31m# Total elapsed time of the request (approximately)\u001b[0m\u001b[1;33m\u001b[0m\u001b[1;33m\u001b[0m\u001b[1;33m\u001b[0m\u001b[0m\n",
      "\u001b[1;32mc:\\Users\\Go\\miniconda3\\envs\\pro1\\lib\\site-packages\\requests\\adapters.py\u001b[0m in \u001b[0;36msend\u001b[1;34m(self, request, stream, timeout, verify, cert, proxies)\u001b[0m\n\u001b[0;32m    505\u001b[0m                 \u001b[1;31m# TODO: Remove this in 3.0.0: see #2811\u001b[0m\u001b[1;33m\u001b[0m\u001b[1;33m\u001b[0m\u001b[1;33m\u001b[0m\u001b[0m\n\u001b[0;32m    506\u001b[0m                 \u001b[1;32mif\u001b[0m \u001b[1;32mnot\u001b[0m \u001b[0misinstance\u001b[0m\u001b[1;33m(\u001b[0m\u001b[0me\u001b[0m\u001b[1;33m.\u001b[0m\u001b[0mreason\u001b[0m\u001b[1;33m,\u001b[0m \u001b[0mNewConnectionError\u001b[0m\u001b[1;33m)\u001b[0m\u001b[1;33m:\u001b[0m\u001b[1;33m\u001b[0m\u001b[1;33m\u001b[0m\u001b[0m\n\u001b[1;32m--> 507\u001b[1;33m                     \u001b[1;32mraise\u001b[0m \u001b[0mConnectTimeout\u001b[0m\u001b[1;33m(\u001b[0m\u001b[0me\u001b[0m\u001b[1;33m,\u001b[0m \u001b[0mrequest\u001b[0m\u001b[1;33m=\u001b[0m\u001b[0mrequest\u001b[0m\u001b[1;33m)\u001b[0m\u001b[1;33m\u001b[0m\u001b[1;33m\u001b[0m\u001b[0m\n\u001b[0m\u001b[0;32m    508\u001b[0m \u001b[1;33m\u001b[0m\u001b[0m\n\u001b[0;32m    509\u001b[0m             \u001b[1;32mif\u001b[0m \u001b[0misinstance\u001b[0m\u001b[1;33m(\u001b[0m\u001b[0me\u001b[0m\u001b[1;33m.\u001b[0m\u001b[0mreason\u001b[0m\u001b[1;33m,\u001b[0m \u001b[0mResponseError\u001b[0m\u001b[1;33m)\u001b[0m\u001b[1;33m:\u001b[0m\u001b[1;33m\u001b[0m\u001b[1;33m\u001b[0m\u001b[0m\n",
      "\u001b[1;31mConnectTimeout\u001b[0m: HTTPConnectionPool(host='192.168.0.12', port=80): Max retries exceeded with url: /app (Caused by ConnectTimeoutError(<urllib3.connection.HTTPConnection object at 0x0000021DC2225748>, 'Connection to 192.168.0.12 timed out. (connect timeout=2)'))"
     ]
    }
   ],
   "source": [
    "ip = '192.168.0.12'\n",
    "user_id = 'ehrnc'\n",
    "email = 'rhqudrjs2@naver.com'\n",
    "pw = 'qudrjs12#'\n",
    "\n",
    "\n",
    "\n",
    "p_controller = P100(ip,email,pw)\n",
    "p_controller.handshake()\n",
    "p_controller.login()\n",
    "p_controller.turnOn()\n",
    "\n",
    "\n",
    "# path = os.getcwd()\n",
    "# tt = pd.read_csv(os.path.join(path,'TapoP100',\"DB\",\"controller_data\",'ehrnc'+'.csv',))\n",
    "# tt.loc[tt.ip == ip] = True\n",
    "# tt"
   ]
  },
  {
   "cell_type": "code",
   "execution_count": null,
   "metadata": {},
   "outputs": [],
   "source": [
    "data = {\n",
    "    'id':['ehrnc'],\n",
    "    'pw':['64581'],\n",
    "}\n",
    "id_data = pd.DataFrame(data)\n",
    "\n",
    "import os\n",
    "from glob import glob\n",
    "\n",
    "path = os.getcwd()\n",
    "\n",
    "# data = {\n",
    "#         'ip':[],\n",
    "#         'user_id':[],\n",
    "#         'plug_name':[],\n",
    "#         'on_state':[],\n",
    "#     }\n",
    "\n",
    "\n",
    "tt = pd.read_csv(os.path.join(path,'TapoP100',\"DB\",\"controller_data\",\"ehrnc.csv\"))\n",
    "sample_data = {\n",
    "        'ip':'192.168.0.115',\n",
    "        'user_id':'ehrnc',\n",
    "        'plug_name':'test_2',\n",
    "        'on_state':'false',\n",
    "    }\n",
    "tt = tt.append(sample_data,ignore_index=True)\n",
    "tt.to_csv(os.path.join(path,'TapoP100',\"DB\",\"controller_data\",\"ehrnc.csv\"),index = False)"
   ]
  },
  {
   "cell_type": "code",
   "execution_count": 113,
   "metadata": {},
   "outputs": [],
   "source": [
    "sample_data = {\n",
    "        'time':[],\n",
    "        'ip':[],\n",
    "        'state':[],\n",
    "    }\n",
    "\n",
    "dd = pd.DataFrame(sample_data)\n",
    "\n",
    "\n",
    "\n",
    "history_data = pd.DataFrame(dd)\n",
    "history_data.to_csv(os.path.join(path,'TapoP100',\"DB\",\"controller_data\",\"ehrnc_history.csv\"),index = False)"
   ]
  },
  {
   "cell_type": "code",
   "execution_count": 114,
   "metadata": {},
   "outputs": [
    {
     "data": {
      "text/plain": [
       "1652171979.6683047"
      ]
     },
     "execution_count": 114,
     "metadata": {},
     "output_type": "execute_result"
    }
   ],
   "source": [
    "time.time()"
   ]
  },
  {
   "cell_type": "code",
   "execution_count": 118,
   "metadata": {},
   "outputs": [
    {
     "ename": "AttributeError",
     "evalue": "type object 'datetime.datetime' has no attribute 'timedelta'",
     "output_type": "error",
     "traceback": [
      "\u001b[1;31m---------------------------------------------------------------------------\u001b[0m",
      "\u001b[1;31mAttributeError\u001b[0m                            Traceback (most recent call last)",
      "\u001b[1;32m~\\AppData\\Local\\Temp/ipykernel_21116/1978108160.py\u001b[0m in \u001b[0;36m<module>\u001b[1;34m\u001b[0m\n\u001b[0;32m      1\u001b[0m \u001b[1;32mfrom\u001b[0m \u001b[0mdatetime\u001b[0m \u001b[1;32mimport\u001b[0m \u001b[0mdatetime\u001b[0m\u001b[1;33m\u001b[0m\u001b[1;33m\u001b[0m\u001b[0m\n\u001b[0;32m      2\u001b[0m \u001b[1;33m\u001b[0m\u001b[0m\n\u001b[1;32m----> 3\u001b[1;33m \u001b[0mstr\u001b[0m\u001b[1;33m(\u001b[0m\u001b[0mdatetime\u001b[0m\u001b[1;33m.\u001b[0m\u001b[0mtimedelta\u001b[0m\u001b[1;33m(\u001b[0m\u001b[0mseconds\u001b[0m\u001b[1;33m=\u001b[0m\u001b[0mtime\u001b[0m\u001b[1;33m.\u001b[0m\u001b[0mtime\u001b[0m\u001b[1;33m(\u001b[0m\u001b[1;33m)\u001b[0m\u001b[1;33m)\u001b[0m\u001b[1;33m)\u001b[0m\u001b[1;33m\u001b[0m\u001b[1;33m\u001b[0m\u001b[0m\n\u001b[0m",
      "\u001b[1;31mAttributeError\u001b[0m: type object 'datetime.datetime' has no attribute 'timedelta'"
     ]
    }
   ],
   "source": [
    "from datetime import datetime\n",
    "\n",
    "str(datetime.timedelta(seconds=time.time()))"
   ]
  },
  {
   "cell_type": "code",
   "execution_count": 121,
   "metadata": {},
   "outputs": [
    {
     "data": {
      "text/html": [
       "<div>\n",
       "<style scoped>\n",
       "    .dataframe tbody tr th:only-of-type {\n",
       "        vertical-align: middle;\n",
       "    }\n",
       "\n",
       "    .dataframe tbody tr th {\n",
       "        vertical-align: top;\n",
       "    }\n",
       "\n",
       "    .dataframe thead th {\n",
       "        text-align: right;\n",
       "    }\n",
       "</style>\n",
       "<table border=\"1\" class=\"dataframe\">\n",
       "  <thead>\n",
       "    <tr style=\"text-align: right;\">\n",
       "      <th></th>\n",
       "      <th>time</th>\n",
       "      <th>ip</th>\n",
       "      <th>state</th>\n",
       "    </tr>\n",
       "  </thead>\n",
       "  <tbody>\n",
       "    <tr>\n",
       "      <th>0</th>\n",
       "      <td>2022-05-10 17:52:41</td>\n",
       "      <td>192.168.0.118</td>\n",
       "      <td>off</td>\n",
       "    </tr>\n",
       "  </tbody>\n",
       "</table>\n",
       "</div>"
      ],
      "text/plain": [
       "                  time             ip state\n",
       "0  2022-05-10 17:52:41  192.168.0.118   off"
      ]
     },
     "execution_count": 121,
     "metadata": {},
     "output_type": "execute_result"
    }
   ],
   "source": [
    "sample_data = {\n",
    "        'time':[],\n",
    "        'ip':[],\n",
    "        'state':[],\n",
    "    }\n",
    "\n",
    "dd = pd.DataFrame(sample_data)\n",
    "sam = {'time': '2022-05-10 17:52:41', 'ip': '192.168.0.118', 'state': 'off'}\n",
    "dd.append(sam,ignore_index=True)"
   ]
  },
  {
   "cell_type": "code",
   "execution_count": null,
   "metadata": {},
   "outputs": [],
   "source": [
    "# 사용방법\n",
    "import schedule\n",
    "import time\n",
    " \n",
    "def job():\n",
    "    print(\"I'm working...\")\n",
    " \n",
    "\n",
    "# 10초에 한번씩 실행\n",
    "schedule.every(10).seconds.do(job)\n",
    "# 10분에 한번씩 실행\n",
    "schedule.every(10).minutes.do(job)\n",
    "# 매 시간 실행\n",
    "schedule.every().hour.do(job)\n",
    "# 매일 10:30 에 실행\n",
    "schedule.every().day.at(\"10:30\").do(job)\n",
    "# 매주 월요일 실행\n",
    "schedule.every().monday.do(job)\n",
    "# 매주 수요일 13:15 에 실행\n",
    "schedule.every().wednesday.at(\"13:15\").do(job)\n",
    " \n",
    "\n",
    "while True:\n",
    "    schedule.run_pending()\n",
    "    time.sleep(1)"
   ]
  },
  {
   "cell_type": "code",
   "execution_count": 180,
   "metadata": {},
   "outputs": [
    {
     "name": "stdout",
     "output_type": "stream",
     "text": [
      "I'm working...\n"
     ]
    }
   ],
   "source": [
    "schedule.run_pending()"
   ]
  },
  {
   "cell_type": "code",
   "execution_count": 183,
   "metadata": {},
   "outputs": [],
   "source": [
    "import pandas\n",
    "#pip install pymysql \n",
    "import pymysql"
   ]
  },
  {
   "cell_type": "code",
   "execution_count": 217,
   "id": "cffdc75f",
   "metadata": {},
   "outputs": [],
   "source": [
    "#데이터 베이스와 연결하는 부분\n",
    "#mysql은 pymysql.connect를 사용하여 데이터베이스와 연결 \n",
    "#user=mysql 데이터베이스 사용자 이름 , \n",
    "#passwd=mysql 데이터 베이스 비밀번호 \n",
    "#host= mysql 데이터베이스 주소 \n",
    "#port=mysql데이터 베이스 포트 \n",
    "#db= 접속하려는 데이터베이스 \n",
    "\n",
    "conn = pymysql.connect(\n",
    "user='room_test',\n",
    "passwd='ehrnc64581',\n",
    "# 222.108.71.247 (외부접속)\n",
    "# 192.168.0.42\n",
    "host='222.108.71.247',\n",
    "port=3306,\n",
    "db='testdb',\n",
    ")\n",
    "\n",
    "#TEST\n",
    "sql=\"SELECT * FROM data WHERE 센서번호=1 AND 날짜 > now() - INTERVAL 1 HOUR;\"\n",
    "\n",
    "#5분데이터 불러오는 부분\n",
    "# sql=\"SELECT * FROM data WHERE 날짜 > now() - INTERVAL 5 MINUTE;\"\n",
    "\n",
    "#10분데이터 불러오는 부분\n",
    "# sql=\"SELECT * FROM myTable WHERE date > now() - INTERVAL 10 MINUTE;\""
   ]
  },
  {
   "cell_type": "code",
   "execution_count": 218,
   "id": "29afdc18",
   "metadata": {},
   "outputs": [
    {
     "data": {
      "text/html": [
       "<div>\n",
       "<style scoped>\n",
       "    .dataframe tbody tr th:only-of-type {\n",
       "        vertical-align: middle;\n",
       "    }\n",
       "\n",
       "    .dataframe tbody tr th {\n",
       "        vertical-align: top;\n",
       "    }\n",
       "\n",
       "    .dataframe thead th {\n",
       "        text-align: right;\n",
       "    }\n",
       "</style>\n",
       "<table border=\"1\" class=\"dataframe\">\n",
       "  <thead>\n",
       "    <tr style=\"text-align: right;\">\n",
       "      <th></th>\n",
       "      <th>id</th>\n",
       "      <th>날짜</th>\n",
       "      <th>센서번호</th>\n",
       "      <th>온도</th>\n",
       "      <th>습도</th>\n",
       "      <th>PM</th>\n",
       "      <th>CO2</th>\n",
       "      <th>TVOC</th>\n",
       "    </tr>\n",
       "  </thead>\n",
       "  <tbody>\n",
       "    <tr>\n",
       "      <th>0</th>\n",
       "      <td>24470</td>\n",
       "      <td>2022-05-11 16:31:21</td>\n",
       "      <td>1</td>\n",
       "      <td>26.667</td>\n",
       "      <td>20.131</td>\n",
       "      <td>5.53</td>\n",
       "      <td>665.542</td>\n",
       "      <td>137.8</td>\n",
       "    </tr>\n",
       "    <tr>\n",
       "      <th>1</th>\n",
       "      <td>24472</td>\n",
       "      <td>2022-05-11 16:31:31</td>\n",
       "      <td>1</td>\n",
       "      <td>26.691</td>\n",
       "      <td>20.126</td>\n",
       "      <td>5.565</td>\n",
       "      <td>664.932</td>\n",
       "      <td>141.4</td>\n",
       "    </tr>\n",
       "    <tr>\n",
       "      <th>2</th>\n",
       "      <td>24475</td>\n",
       "      <td>2022-05-11 16:31:41</td>\n",
       "      <td>1</td>\n",
       "      <td>26.683</td>\n",
       "      <td>20.137</td>\n",
       "      <td>5.225</td>\n",
       "      <td>663.895</td>\n",
       "      <td>141.6</td>\n",
       "    </tr>\n",
       "    <tr>\n",
       "      <th>3</th>\n",
       "      <td>24477</td>\n",
       "      <td>2022-05-11 16:31:51</td>\n",
       "      <td>1</td>\n",
       "      <td>26.667</td>\n",
       "      <td>20.127</td>\n",
       "      <td>5.328</td>\n",
       "      <td>663.678</td>\n",
       "      <td>142.6</td>\n",
       "    </tr>\n",
       "    <tr>\n",
       "      <th>4</th>\n",
       "      <td>24479</td>\n",
       "      <td>2022-05-11 16:32:01</td>\n",
       "      <td>1</td>\n",
       "      <td>26.67</td>\n",
       "      <td>20.084</td>\n",
       "      <td>5.46</td>\n",
       "      <td>662.967</td>\n",
       "      <td>139.4</td>\n",
       "    </tr>\n",
       "    <tr>\n",
       "      <th>...</th>\n",
       "      <td>...</td>\n",
       "      <td>...</td>\n",
       "      <td>...</td>\n",
       "      <td>...</td>\n",
       "      <td>...</td>\n",
       "      <td>...</td>\n",
       "      <td>...</td>\n",
       "      <td>...</td>\n",
       "    </tr>\n",
       "    <tr>\n",
       "      <th>355</th>\n",
       "      <td>25290</td>\n",
       "      <td>2022-05-11 17:30:31</td>\n",
       "      <td>1</td>\n",
       "      <td>26.595</td>\n",
       "      <td>21.518</td>\n",
       "      <td>3.836</td>\n",
       "      <td>761.143</td>\n",
       "      <td>131.4</td>\n",
       "    </tr>\n",
       "    <tr>\n",
       "      <th>356</th>\n",
       "      <td>25292</td>\n",
       "      <td>2022-05-11 17:30:41</td>\n",
       "      <td>1</td>\n",
       "      <td>26.59</td>\n",
       "      <td>21.462</td>\n",
       "      <td>3.871</td>\n",
       "      <td>760.709</td>\n",
       "      <td>125.6</td>\n",
       "    </tr>\n",
       "    <tr>\n",
       "      <th>357</th>\n",
       "      <td>25294</td>\n",
       "      <td>2022-05-11 17:30:51</td>\n",
       "      <td>1</td>\n",
       "      <td>26.622</td>\n",
       "      <td>21.405</td>\n",
       "      <td>3.983</td>\n",
       "      <td>759.824</td>\n",
       "      <td>131.2</td>\n",
       "    </tr>\n",
       "    <tr>\n",
       "      <th>358</th>\n",
       "      <td>25297</td>\n",
       "      <td>2022-05-11 17:31:01</td>\n",
       "      <td>1</td>\n",
       "      <td>26.609</td>\n",
       "      <td>21.472</td>\n",
       "      <td>4.009</td>\n",
       "      <td>758.563</td>\n",
       "      <td>126.8</td>\n",
       "    </tr>\n",
       "    <tr>\n",
       "      <th>359</th>\n",
       "      <td>25299</td>\n",
       "      <td>2022-05-11 17:31:11</td>\n",
       "      <td>1</td>\n",
       "      <td>26.6</td>\n",
       "      <td>21.435</td>\n",
       "      <td>4.333</td>\n",
       "      <td>758.975</td>\n",
       "      <td>128.8</td>\n",
       "    </tr>\n",
       "  </tbody>\n",
       "</table>\n",
       "<p>360 rows × 8 columns</p>\n",
       "</div>"
      ],
      "text/plain": [
       "        id                  날짜  센서번호      온도      습도     PM      CO2   TVOC\n",
       "0    24470 2022-05-11 16:31:21     1  26.667  20.131   5.53  665.542  137.8\n",
       "1    24472 2022-05-11 16:31:31     1  26.691  20.126  5.565  664.932  141.4\n",
       "2    24475 2022-05-11 16:31:41     1  26.683  20.137  5.225  663.895  141.6\n",
       "3    24477 2022-05-11 16:31:51     1  26.667  20.127  5.328  663.678  142.6\n",
       "4    24479 2022-05-11 16:32:01     1   26.67  20.084   5.46  662.967  139.4\n",
       "..     ...                 ...   ...     ...     ...    ...      ...    ...\n",
       "355  25290 2022-05-11 17:30:31     1  26.595  21.518  3.836  761.143  131.4\n",
       "356  25292 2022-05-11 17:30:41     1   26.59  21.462  3.871  760.709  125.6\n",
       "357  25294 2022-05-11 17:30:51     1  26.622  21.405  3.983  759.824  131.2\n",
       "358  25297 2022-05-11 17:31:01     1  26.609  21.472  4.009  758.563  126.8\n",
       "359  25299 2022-05-11 17:31:11     1    26.6  21.435  4.333  758.975  128.8\n",
       "\n",
       "[360 rows x 8 columns]"
      ]
     },
     "execution_count": 218,
     "metadata": {},
     "output_type": "execute_result"
    }
   ],
   "source": [
    "df=pandas.read_sql_query(sql,conn)\n",
    "df"
   ]
  },
  {
   "cell_type": "code",
   "execution_count": 201,
   "metadata": {},
   "outputs": [
    {
     "data": {
      "text/plain": [
       "515.969"
      ]
     },
     "execution_count": 201,
     "metadata": {},
     "output_type": "execute_result"
    }
   ],
   "source": [
    "float(df.loc[:,['CO2']].values[-1][0])"
   ]
  },
  {
   "cell_type": "code",
   "execution_count": null,
   "metadata": {},
   "outputs": [],
   "source": [
    "# http://222.108.71.247:51213/off?ip=${ip}&user_id=${user_id}"
   ]
  },
  {
   "cell_type": "code",
   "execution_count": 209,
   "metadata": {},
   "outputs": [
    {
     "name": "stdout",
     "output_type": "stream",
     "text": [
      "현재 co2:  548.691\n",
      "현재 co2:  549.803\n",
      "현재 co2:  546.546\n",
      "현재 co2:  554.68\n",
      "현재 co2:  749.518\n",
      "현재 co2:  740.472\n",
      "현재 co2:  744.304\n",
      "현재 co2:  756.776\n",
      "현재 co2:  748.302\n",
      "현재 co2:  740.041\n",
      "현재 co2:  735.287\n",
      "현재 co2:  734.161\n",
      "현재 co2:  729.862\n",
      "현재 co2:  713.993\n",
      "현재 co2:  614.264\n",
      "현재 co2:  596.709\n",
      "현재 co2:  595.14\n",
      "현재 co2:  640.585\n",
      "현재 co2:  682.288\n",
      "현재 co2:  649.994\n",
      "현재 co2:  704.777\n",
      "현재 co2:  924.969\n",
      "현재 co2:  903.476\n",
      "현재 co2:  849.94\n",
      "현재 co2:  726.705\n",
      "현재 co2:  725.49\n",
      "현재 co2:  716.073\n",
      "현재 co2:  706.998\n",
      "현재 co2:  674.959\n",
      "현재 co2:  627.467\n",
      "현재 co2:  603.61\n"
     ]
    },
    {
     "ename": "KeyboardInterrupt",
     "evalue": "",
     "output_type": "error",
     "traceback": [
      "\u001b[1;31m---------------------------------------------------------------------------\u001b[0m",
      "\u001b[1;31mKeyboardInterrupt\u001b[0m                         Traceback (most recent call last)",
      "\u001b[1;32m~\\AppData\\Local\\Temp/ipykernel_21116/2929208033.py\u001b[0m in \u001b[0;36m<module>\u001b[1;34m\u001b[0m\n\u001b[0;32m     28\u001b[0m \u001b[1;33m\u001b[0m\u001b[0m\n\u001b[0;32m     29\u001b[0m \u001b[1;32mwhile\u001b[0m \u001b[1;32mTrue\u001b[0m\u001b[1;33m:\u001b[0m\u001b[1;33m\u001b[0m\u001b[1;33m\u001b[0m\u001b[0m\n\u001b[1;32m---> 30\u001b[1;33m     \u001b[0mtime\u001b[0m\u001b[1;33m.\u001b[0m\u001b[0msleep\u001b[0m\u001b[1;33m(\u001b[0m\u001b[1;36m10\u001b[0m\u001b[1;33m)\u001b[0m\u001b[1;33m\u001b[0m\u001b[1;33m\u001b[0m\u001b[0m\n\u001b[0m\u001b[0;32m     31\u001b[0m \u001b[1;33m\u001b[0m\u001b[0m\n\u001b[0;32m     32\u001b[0m     \u001b[1;31m#\u001b[0m\u001b[1;33m\u001b[0m\u001b[1;33m\u001b[0m\u001b[1;33m\u001b[0m\u001b[0m\n",
      "\u001b[1;31mKeyboardInterrupt\u001b[0m: "
     ]
    }
   ],
   "source": [
    "ip = '192.168.0.118'\n",
    "email = 'rhqudrjs2@naver.com'\n",
    "pw = 'qudrjs12#'\n",
    "\n",
    "# conn = pymysql.connect(\n",
    "# user='room_test',\n",
    "# passwd='ehrnc64581',\n",
    "# # 222.108.71.247 (외부접속)\n",
    "# # 192.168.0.42\n",
    "# host='222.108.71.247',\n",
    "# port=3306,\n",
    "# db='testdb',\n",
    "# )\n",
    "\n",
    "#TEST\n",
    "# sql=\"SELECT * FROM data WHERE 센서번호=01 AND 날짜 > now() - INTERVAL 1 HOUR;\"\n",
    "\n",
    "#5분데이터 불러오는 부분\n",
    "sql=\"SELECT * FROM data WHERE 센서번호=01 AND 날짜 > now() - INTERVAL 5 MINUTE;\"\n",
    "\n",
    "\n",
    "\n",
    "\n",
    "p_controller = P100(ip,email,pw)\n",
    "p_controller.handshake()\n",
    "p_controller.login()\n",
    "# p_controller.turnOn()\n",
    "\n",
    "while True:\n",
    "    time.sleep(10)\n",
    "    \n",
    "    #\n",
    "    conn = pymysql.connect(\n",
    "    user='room_test',\n",
    "    passwd='ehrnc64581',\n",
    "    # 222.108.71.247 (외부접속)\n",
    "    # 192.168.0.42\n",
    "    host='222.108.71.247',\n",
    "    port=3306,\n",
    "    db='testdb',\n",
    "    )\n",
    "    \n",
    "    #\n",
    "    df=pandas.read_sql_query(sql,conn)\n",
    "    conn.close()\n",
    "    \n",
    "    #\n",
    "    co2_val = float(df.loc[:,['CO2']].values[-1][0])\n",
    "    print('현재 co2: ',co2_val)\n",
    "    if co2_val > 700:\n",
    "        p_controller.turnOn()\n",
    "    else:\n",
    "        p_controller.turnOff()\n",
    "\n",
    "\n",
    "\n",
    "\n",
    "\n",
    "    "
   ]
  }
 ],
 "metadata": {
  "interpreter": {
   "hash": "9c56d6588016773a9a261ca696be21be523e85b6a015f86bf5fcaeb370621b0d"
  },
  "kernelspec": {
   "display_name": "Python 3.7.11 ('pro1')",
   "language": "python",
   "name": "python3"
  },
  "language_info": {
   "codemirror_mode": {
    "name": "ipython",
    "version": 3
   },
   "file_extension": ".py",
   "mimetype": "text/x-python",
   "name": "python",
   "nbconvert_exporter": "python",
   "pygments_lexer": "ipython3",
   "version": "3.7.13"
  },
  "orig_nbformat": 4
 },
 "nbformat": 4,
 "nbformat_minor": 2
}
